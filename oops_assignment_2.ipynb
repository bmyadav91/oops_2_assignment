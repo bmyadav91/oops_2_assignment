{
 "cells": [
  {
   "cell_type": "code",
   "execution_count": null,
   "id": "f881ca08-a89c-4885-9d1a-5de937ce0554",
   "metadata": {},
   "outputs": [],
   "source": [
    "# Opps Assignment - 2"
   ]
  },
  {
   "cell_type": "code",
   "execution_count": null,
   "id": "4557ffc5-ace2-486d-bdea-a166255e0769",
   "metadata": {},
   "outputs": [],
   "source": [
    "# Constructor:"
   ]
  },
  {
   "cell_type": "code",
   "execution_count": 1,
   "id": "3fe8cce4-f1ef-48c0-a351-820088117cce",
   "metadata": {},
   "outputs": [],
   "source": [
    "# 1. What is a constructor in Python? Explain its purpose and usage."
   ]
  },
  {
   "cell_type": "markdown",
   "id": "7319db3e-820b-48d7-8964-9168b978e928",
   "metadata": {},
   "source": [
    "Ans: a constructor is a special method that is automatically called when an object is created. Its primary purpose is to initialize the attributes of the object and perform any necessary setup.\n",
    "In Python, the constructor method is named __init__. It takes at least one parameter, traditionally named self, which refers to the instance of the object being created. "
   ]
  },
  {
   "cell_type": "code",
   "execution_count": null,
   "id": "d10964af-b5f9-42b4-81a4-9c7e772faa3a",
   "metadata": {},
   "outputs": [],
   "source": [
    "# 2. Differentiate between a parameterless constructor and a parameterized constructor in Python."
   ]
  },
  {
   "cell_type": "markdown",
   "id": "f4f5a7ee-24f3-4a14-bf13-5c1ab5df3fa8",
   "metadata": {},
   "source": [
    "Ans:\n",
    "parameterless constructor:-\n",
    "In Python, constructors in classes can be categorized into two types: parameterless constructors and parameterized constructors.\n",
    "A parameterless constructor, also known as a default constructor, is a constructor that takes no parameters.\n",
    "Example:\n",
    "class Car:\r\n",
    "    def __init__(self):\r\n",
    "        # This is a parameterless constructor\r\n",
    "        print(\"Parameterless constructor called.\"\n",
    "\r\n",
    "# Creating an object of the Car class\r\n",
    "my_car = Car()  # Output: Parameterless constructor c\n",
    "\n",
    "parameterized constructor: A parameterized constructor is a constructor that takes one or more parameters in addition to the self parameter.\n",
    "example:\n",
    "class Car:\r\n",
    "    def __init__(self, make, model, year):\r\n",
    "        # This is a parameterized constructor\r\n",
    "        self.make = make\r\n",
    "        self.model = model\r\n",
    "        self.year = year\r\n",
    "        print(\"Parameterized constructoralled.\")\r\n",
    "\r\n",
    "# Creating an object of the Car class using the parameterized constructor\r\n",
    "my_car = Car(\"Toyota\", amry\", 2022)\r\n",
    "# Output: Parameterized constructor called.alled."
   ]
  },
  {
   "cell_type": "code",
   "execution_count": null,
   "id": "9e5f06aa-c680-45e9-bc50-03b61b9bcedf",
   "metadata": {},
   "outputs": [],
   "source": [
    "# 3. How do you define a constructor in a Python class? Provide an example."
   ]
  },
  {
   "cell_type": "code",
   "execution_count": 5,
   "id": "1e3bc377-e613-4ebc-ad73-1a9bf80df693",
   "metadata": {},
   "outputs": [
    {
     "name": "stdout",
     "output_type": "stream",
     "text": [
      "Constructor Defined\n"
     ]
    }
   ],
   "source": [
    "# first we will create a class\n",
    "class constr:\n",
    "    # now will use __init__ constructor\n",
    "    def __init__(self, msg): #we will pass self keyword or any to each function if have function.\n",
    "        self.msg = msg\n",
    "    def printresult(self):\n",
    "        print(self.msg)\n",
    "\n",
    "# call to class\n",
    "ob1 = constr(\"Constructor Defined\")\n",
    "ob1.printresult()"
   ]
  },
  {
   "cell_type": "code",
   "execution_count": null,
   "id": "db48e823-55fd-442e-b150-c87de72d4cb0",
   "metadata": {},
   "outputs": [],
   "source": [
    "# 4. Explain the `__init__` method in Python and its role in constructors."
   ]
  },
  {
   "cell_type": "markdown",
   "id": "f1ea87ef-fbc0-4948-a1aa-0a96b6b94314",
   "metadata": {},
   "source": [
    "Ans: In Python, the __init__ method is a special method that plays a crucial role in the creation of objects within a class. It is often referred to as the constructor method. The name \"init\" is short for \"initialize,\" and this method is automatically called when an object of the class is created."
   ]
  },
  {
   "cell_type": "code",
   "execution_count": null,
   "id": "d840db93-6c7f-4ed3-b926-5b780cc62b45",
   "metadata": {},
   "outputs": [],
   "source": [
    "# 5. In a class named `Person`, create a constructor that initializes the `name` and `age` attributes. Provide an example of creating an object of this class."
   ]
  },
  {
   "cell_type": "code",
   "execution_count": 9,
   "id": "6c8457c7-b5ce-45e4-8df1-299104c0d3e3",
   "metadata": {},
   "outputs": [
    {
     "name": "stdout",
     "output_type": "stream",
     "text": [
      "BM Yadav and 21\n"
     ]
    }
   ],
   "source": [
    "class person:\n",
    "    def __init__(self, name, age):\n",
    "        self.name = name\n",
    "        self.age = age\n",
    "\n",
    "# call the object \n",
    "p1 = person(\"BM Yadav\", 21)\n",
    "print(p1.name, \"and\", p1.age)"
   ]
  },
  {
   "cell_type": "code",
   "execution_count": 10,
   "id": "8d423287-d480-4e45-8d99-45c0424b1de7",
   "metadata": {},
   "outputs": [],
   "source": [
    "# 6. How can you call a constructor explicitly in Python? Give an example."
   ]
  },
  {
   "cell_type": "code",
   "execution_count": 15,
   "id": "525d6d49-1fab-453f-94e3-9549d0a8ec91",
   "metadata": {},
   "outputs": [
    {
     "name": "stdout",
     "output_type": "stream",
     "text": [
      "Constructor called with value: Hello\n"
     ]
    }
   ],
   "source": [
    "class MyClass:\n",
    "    def __init__(self, value):\n",
    "        self.value = value\n",
    "        print(\"Constructor called with value:\", value)\n",
    "\n",
    "# Create an instance of MyClass\n",
    "my_instance = MyClass.__new__(MyClass)  # Using __new__ to create an instance\n",
    "MyClass.__init__(my_instance, \"Hello\")  # Explicitly calling the constructor\n"
   ]
  },
  {
   "cell_type": "code",
   "execution_count": null,
   "id": "f91f9dea-75b8-4fce-844b-6a6cbfbe128f",
   "metadata": {},
   "outputs": [],
   "source": [
    "# 7. What is the significance of the `self` parameter in Python constructors? Explain with an example."
   ]
  },
  {
   "cell_type": "markdown",
   "id": "4d39523c-e115-4bf4-8ad5-81b4e6656bf9",
   "metadata": {},
   "source": [
    "Ans: In Python, the self parameter in constructors (and other instance methods) refers to the instance of the class itself. It's a convention in Python to name this parameter self, although you could technically use any name. The self parameter is required in order to access and modify the attributes of the instance within the class"
   ]
  },
  {
   "cell_type": "code",
   "execution_count": null,
   "id": "ed4f1e55-3979-4ff0-9fe1-150a746785ac",
   "metadata": {},
   "outputs": [],
   "source": [
    "# 8. Discuss the concept of default constructors in Python. When are they used?"
   ]
  },
  {
   "cell_type": "markdown",
   "id": "a6809992-0f96-4fce-9dbc-d9535ca3c351",
   "metadata": {},
   "source": [
    "Ans: In Python, a default constructor refers to a constructor that doesn't take any parameters other than the mandatory self parameter. It is also known as a parameterless constructor. When a class is defined without an explicit __init__ method, Python provides a default constructor."
   ]
  },
  {
   "cell_type": "code",
   "execution_count": null,
   "id": "7c7ac95f-73cc-4967-a52d-672a2279331f",
   "metadata": {},
   "outputs": [],
   "source": [
    "# 9. Create a Python class called `Rectangle` with a constructor that initializes the `width` and `height` attributes. Provide a method to calculate the area of the rectangle."
   ]
  },
  {
   "cell_type": "code",
   "execution_count": 19,
   "id": "1f2e8bec-d695-4bc3-a383-314208f62c36",
   "metadata": {},
   "outputs": [
    {
     "name": "stdout",
     "output_type": "stream",
     "text": [
      "Area Of Rectangle: 200 cm\n"
     ]
    }
   ],
   "source": [
    "class rectangle:\n",
    "    def __init__(self, width, height):\n",
    "        self.width = width\n",
    "        self.height = height\n",
    "    def calculate(self):\n",
    "        return self.width * self.height\n",
    "\n",
    "# call the object\n",
    "rectcls = rectangle(10,20)\n",
    "print(\"Area Of Rectangle:\", rectcls.calculate(), \"cm\")"
   ]
  },
  {
   "cell_type": "code",
   "execution_count": null,
   "id": "7c3a041f-415a-4560-8148-74bdee2128ab",
   "metadata": {},
   "outputs": [],
   "source": [
    "# 10. How can you have multiple constructors in a Python class? Explain with an example."
   ]
  },
  {
   "cell_type": "code",
   "execution_count": 25,
   "id": "747796d5-3a03-4410-a982-3ca8833d4cb1",
   "metadata": {},
   "outputs": [],
   "source": [
    "# in python we can't use multiple constructor but something hack we can use multiple constructors but not recommended\n",
    "class mul_cont:\n",
    "    def __init__(self, *arg):\n",
    "        if len(arg) == 1:\n",
    "            self.name = arg[0]\n",
    "        elif len(arg) == 2:\n",
    "            self.name = arg[0]\n",
    "            self.city = arg[1]\n",
    "        elif len(arg) == 3:\n",
    "            self.name = arg[0]\n",
    "            self.city = arg[1]\n",
    "            self.age = arg[2]\n",
    "        else:\n",
    "            return \"Something went wrong\"\n",
    "\n",
    "# call the object \n",
    "multiple_contructors = mul_cont(\"BM Yadav\", \"Gorakhpur\", 21)"
   ]
  },
  {
   "cell_type": "code",
   "execution_count": null,
   "id": "5d57a086-961a-4915-aebe-63938fa6a86f",
   "metadata": {},
   "outputs": [],
   "source": [
    "# 11. What is method overloading, and how is it related to constructors in Python?"
   ]
  },
  {
   "cell_type": "markdown",
   "id": "f782f99b-93c2-492f-aad8-e1dcccfe420a",
   "metadata": {},
   "source": [
    "Ans:  Python doesn't support method overloading in the traditional sense, you can achieve similar behavior by using default values for function parameters or by using variable-length argument lists (*args and **kwargs).\n",
    "Method overloading is related to constructors in the sense that you might want to have multiple constructors with different sets of parameters to create objects in different ways. In Python, this can be achieved using default parameter values in the constructor."
   ]
  },
  {
   "cell_type": "code",
   "execution_count": null,
   "id": "a5263dc6-1eb4-4812-9488-8c0b3b45555d",
   "metadata": {},
   "outputs": [],
   "source": [
    "# 12. Explain the use of the `super()` function in Python constructors. Provide an example."
   ]
  },
  {
   "cell_type": "code",
   "execution_count": 31,
   "id": "65c90fbe-6fee-446c-9fc4-cd76a2b83a93",
   "metadata": {},
   "outputs": [
    {
     "name": "stdout",
     "output_type": "stream",
     "text": [
      "Name: BM \n",
      " Roll No.: 254, \n",
      " Course: Python\n"
     ]
    }
   ],
   "source": [
    " # super() function is used in constructors to call the constructor of the parent (or superclass) in the context of an inherited class. This is particularly useful when you want to extend the behavior of the parent class in the child class and still ensure that the parent's constructor is executed.\n",
    "\n",
    "class student:\n",
    "    def __init__(self, name, rollno):\n",
    "        self.name = name\n",
    "        self.rollno = rollno\n",
    "\n",
    "class details(student):\n",
    "    def __init__(self, name, rollno, course):\n",
    "        super().__init__(name, rollno)\n",
    "        self.course = course\n",
    "\n",
    "# call class\n",
    "st = details(\"BM\", 254, \"Python\")\n",
    "print(f\"Name: {st.name} \\n Roll No.: {st.rollno}, \\n Course: {st.course}\")"
   ]
  },
  {
   "cell_type": "code",
   "execution_count": null,
   "id": "9547b013-f18b-4fa2-a11f-006809557a87",
   "metadata": {},
   "outputs": [],
   "source": [
    "# 13. Create a class called `Book` with a constructor that initializes the `title`, `author`, and `published_year` attributes. Provide a method to display book details."
   ]
  },
  {
   "cell_type": "code",
   "execution_count": 39,
   "id": "b83bcdb0-058d-49f7-b341-8ad39af65fce",
   "metadata": {},
   "outputs": [
    {
     "name": "stdout",
     "output_type": "stream",
     "text": [
      "\n",
      "        Book Title: Python DSA\n",
      "        Author: Shudhanshu\n",
      "        Published Year: 2023\n",
      "        \n"
     ]
    }
   ],
   "source": [
    "class book:\n",
    "    def __init__(self, title, author, published_year):\n",
    "        self.title = title\n",
    "        self.author = author\n",
    "        self.published_year = published_year\n",
    "    def display_details(self):\n",
    "        print(f\"\"\"\n",
    "        Book Title: {self.title}\n",
    "        Author: {self.author}\n",
    "        Published Year: {self.published_year}\n",
    "        \"\"\")\n",
    "\n",
    "# call class \n",
    "book = book(\"Python DSA\", \"Shudhanshu\", 2023)\n",
    "book.display_details()"
   ]
  },
  {
   "cell_type": "code",
   "execution_count": null,
   "id": "a5c15e72-e7c4-419a-90ae-cccc2ac0a3dd",
   "metadata": {},
   "outputs": [],
   "source": [
    "# 14. Discuss the differences between constructors and regular methods in Python classes."
   ]
  },
  {
   "cell_type": "markdown",
   "id": "b4ca7d80-d10a-4475-b30b-531e815ae71f",
   "metadata": {},
   "source": [
    "Ans: \n",
    "Constructors in Python are special methods with the name __init__. They are automatically called when an object of the class is created.\n",
    "\n",
    "Regular methods in Python can have any valid identifier as their name, and they do not have a special naming convention like constructors."
   ]
  },
  {
   "cell_type": "code",
   "execution_count": null,
   "id": "2fe48fac-7153-4399-954f-b04f8a9c598f",
   "metadata": {},
   "outputs": [],
   "source": [
    "# 15. Explain the role of the `self` parameter in instance variable initialization within a constructor."
   ]
  },
  {
   "cell_type": "markdown",
   "id": "bc5c78b5-de83-490f-8331-18bfb09a5c1d",
   "metadata": {},
   "source": [
    "Ans: \n",
    "In Python, the self parameter in a constructor plays a crucial role in instance variable initialization. The self parameter represents the instance of the class, and it allows you to access and modify the attributes (instance variables) of that specific instance. The use of self in a constructor ensures that the attributes are associated with the correct instance of the class."
   ]
  },
  {
   "cell_type": "code",
   "execution_count": null,
   "id": "a5dc61e3-8760-4fa4-8a49-c36081a6b071",
   "metadata": {},
   "outputs": [],
   "source": [
    "# 16. How do you prevent a class from having multiple instances by using constructors in Python? Provide an example."
   ]
  },
  {
   "cell_type": "code",
   "execution_count": 40,
   "id": "53b150a4-3064-497b-b464-3a45f4d86ad6",
   "metadata": {},
   "outputs": [
    {
     "name": "stdout",
     "output_type": "stream",
     "text": [
      "Instance 1\n",
      "Instance 1\n"
     ]
    }
   ],
   "source": [
    "# Ans: To prevent a class from having multiple instances, you can use a class variable to track whether an instance has already been created. By checking this variable in the constructor, you can raise an exception or take other actions to prevent the creation of additional instances. Here's an example:\n",
    "class Singleton:\n",
    "    # Class variable to track the instance\n",
    "    _instance = None\n",
    "\n",
    "    def __new__(cls, *args, **kwargs):\n",
    "        if not cls._instance:\n",
    "            # Create the instance if it doesn't exist\n",
    "            cls._instance = super(Singleton, cls).__new__(cls)\n",
    "        return cls._instance\n",
    "\n",
    "    def __init__(self, data):\n",
    "        # Initialize instance variables\n",
    "        if not hasattr(self, 'initialized'):\n",
    "            self.data = data\n",
    "            self.initialized = True\n",
    "\n",
    "# Creating instances of the Singleton class\n",
    "singleton_instance1 = Singleton(\"Instance 1\")\n",
    "print(singleton_instance1.data)  # Output: Instance 1\n",
    "\n",
    "# Attempting to create another instance\n",
    "singleton_instance2 = Singleton(\"Instance 2\")\n",
    "print(singleton_instance2.data)  # Output: Instance 1 (same as the first instance)\n"
   ]
  },
  {
   "cell_type": "code",
   "execution_count": null,
   "id": "6792abaf-4c5d-4ed2-a15d-9f1fccd85bca",
   "metadata": {},
   "outputs": [],
   "source": [
    "# 17. Create a Python class called `Student` with a constructor that takes a list of subjects as a parameter and initializes the `subjects` attribute."
   ]
  },
  {
   "cell_type": "code",
   "execution_count": 43,
   "id": "9f63f223-bc38-4dc9-ae50-f54e39062ea1",
   "metadata": {},
   "outputs": [
    {
     "name": "stdout",
     "output_type": "stream",
     "text": [
      "Subjects:  ['Math', 'Computer', 'Economics', 'History', 'Business']\n"
     ]
    }
   ],
   "source": [
    "class student:\n",
    "    def __init__(self, subject):\n",
    "        self.subject = subject\n",
    "\n",
    "# call the class and pass arguement\n",
    "sub = student([\"Math\", \"Computer\", \"Economics\", \"History\", \"Business\"])\n",
    "# print the result \n",
    "print(\"Subjects: \", sub.subject)"
   ]
  },
  {
   "cell_type": "code",
   "execution_count": null,
   "id": "317f6d8f-6f8c-4e4f-8c52-41dcf74ae7ee",
   "metadata": {},
   "outputs": [],
   "source": [
    "# 18. What is the purpose of the `__del__` method in Python classes, and how does it relate to constructors?"
   ]
  },
  {
   "cell_type": "markdown",
   "id": "e78240ed-2ce4-40ef-aa5f-2b1d0b0279a1",
   "metadata": {},
   "source": [
    "Ans:\n",
    "The __del__ method in Python is a special method that is called when an object is about to be destroyed or deleted. It serves as a destructor and is often used to perform cleanup operations before the object is removed from memory. The __del__ method is called automatically when an object is no longer referenced, and the garbage collector decides to reclaim its memory.\n",
    "\n",
    "While the __init__ method is a constructor responsible for initializing an object when it's created, the __del__ method is a destructor that is called just before an object is deleted. The constructor and destructor represent the two ends of an object's lifecycle.\n",
    "\n",
    "Example: \n",
    "\n",
    "class MyClass:\r\n",
    "    def __init__(self, name):\r\n",
    "        self.name = name\r\n",
    "        print(f\"Object {self.name} created.\")\r\n",
    "\r\n",
    "    def __del__(self):\r\n",
    "        print(f\"Object {self.name} is being deletn object\r\n",
    "obj = MyClass(\"etomatically\r\n"
   ]
  },
  {
   "cell_type": "code",
   "execution_count": null,
   "id": "a291ee80-dd0f-4129-94bd-a005500141fd",
   "metadata": {},
   "outputs": [],
   "source": [
    "# 19. Explain the use of constructor chaining in Python. Provide a practical example."
   ]
  },
  {
   "cell_type": "markdown",
   "id": "0575f040-167d-409f-a8da-d382419eca9a",
   "metadata": {},
   "source": [
    "Ans:\n",
    "\n",
    "Constructor chaining in Python refers to the process of calling one constructor from another within the same class hierarchy. This allows you to reuse code from one constructor in another, avoiding redundancy and promoting code organization. In Python, you can achieve constructor chaining using the super() function."
   ]
  },
  {
   "cell_type": "code",
   "execution_count": 47,
   "id": "898d5130-820d-43d5-99f2-a49bef947900",
   "metadata": {},
   "outputs": [
    {
     "name": "stdout",
     "output_type": "stream",
     "text": [
      "\n",
      "Subject 1: Math\n",
      "Subject 2: Computer\n",
      "Subject 3: Economics\n",
      "\n"
     ]
    }
   ],
   "source": [
    "# Example\n",
    "class subject1:\n",
    "    def __init__(self, subject1):\n",
    "        self.subject1 = subject1\n",
    "\n",
    "class subject2(subject1):\n",
    "    def __init__(self,subject1, subject2):\n",
    "        super().__init__(subject1)\n",
    "        self.subject2 = subject2\n",
    "\n",
    "class subject3(subject2):\n",
    "    def __init__(self,subject1, subject2, subject3):\n",
    "        super().__init__(subject1, subject2)\n",
    "        self.subject3 = subject3\n",
    "\n",
    "# call the class \n",
    "subjects = subject3(\"Math\", \"Computer\", \"Economics\")\n",
    "print(f\"\"\"\n",
    "Subject 1: {subjects.subject1}\n",
    "Subject 2: {subjects.subject2}\n",
    "Subject 3: {subjects.subject3}\n",
    "\"\"\")"
   ]
  },
  {
   "cell_type": "code",
   "execution_count": null,
   "id": "e93c6e1b-69cd-4c77-a449-e1266512e4e7",
   "metadata": {},
   "outputs": [],
   "source": [
    "# 20. Create a Python class called `Car` with a default constructor that initializes the `make` and `model` attributes. Provide a method to display car information."
   ]
  },
  {
   "cell_type": "code",
   "execution_count": 48,
   "id": "a8b54ed5-72d6-4564-979e-2334718434dd",
   "metadata": {},
   "outputs": [
    {
     "name": "stdout",
     "output_type": "stream",
     "text": [
      "\n",
      "        Make: BMW\n",
      "        Model: X7\n",
      "        \n"
     ]
    }
   ],
   "source": [
    "class car:\n",
    "    def __init__(self, make, model):\n",
    "        self.make = make\n",
    "        self.model = model\n",
    "\n",
    "    def car_information(self):\n",
    "        print(f\"\"\"\n",
    "        Make: {self.make}\n",
    "        Model: {self.model}\n",
    "        \"\"\")\n",
    "\n",
    "# call the class \n",
    "car = car(\"BMW\", \"X7\")\n",
    "car.car_information()"
   ]
  },
  {
   "cell_type": "code",
   "execution_count": null,
   "id": "cba59c51-1fab-48ad-a50b-dedaed42b098",
   "metadata": {},
   "outputs": [],
   "source": [
    "# Inheritance:"
   ]
  },
  {
   "cell_type": "code",
   "execution_count": null,
   "id": "fb606c9a-5568-41c3-b9b6-695844648ea8",
   "metadata": {},
   "outputs": [],
   "source": [
    "# 1. What is inheritance in Python? Explain its significance in object-oriented programming."
   ]
  },
  {
   "cell_type": "markdown",
   "id": "39021f99-43ae-4660-8766-96716ddabc71",
   "metadata": {},
   "source": [
    "Ans: Inheritance is a fundamental concept in object-oriented programming (OOP) that allows a new class (subclass or child class) to inherit properties and behaviors (attributes and methods) from an existing class (superclass or parent class).\n",
    "\n",
    "Significance: Inheritance promotes code reusability, structuring of classes in a hierarchy, and the ability to create specialized classes by extending the functionality of existing classes"
   ]
  },
  {
   "cell_type": "code",
   "execution_count": null,
   "id": "5eabbaee-b795-4c70-a833-b278aab3a9c7",
   "metadata": {},
   "outputs": [],
   "source": [
    "# 2. Differentiate between single inheritance and multiple inheritance in Python. Provide examples for each."
   ]
  },
  {
   "cell_type": "code",
   "execution_count": 6,
   "id": "1b024e23-7a71-4a30-8f56-3e91615b71cd",
   "metadata": {},
   "outputs": [
    {
     "name": "stdout",
     "output_type": "stream",
     "text": [
      "\n",
      "Initial Inheritance\n",
      "Single Inheritance\n",
      "multiple inheritance\n",
      "\n"
     ]
    }
   ],
   "source": [
    "# In single inheritance, a class can inherit from only one parent class. This is a straightforward and simple form of inheritance.\n",
    "class cls:\n",
    "    def initial(self):\n",
    "        return \"Initial Inheritance\"\n",
    "\n",
    "class single(cls):\n",
    "    def single(self):\n",
    "        return \"Single Inheritance\"\n",
    "\n",
    "class multiple(single, cls):\n",
    "    def multiple(self):\n",
    "        return \"multiple inheritance\"\n",
    "\n",
    "# call class \n",
    "c3 = multiple()\n",
    "print(f\"\"\"\n",
    "{c3.initial()}\n",
    "{c3.single()}\n",
    "{c3.multiple()}\n",
    "\"\"\")"
   ]
  },
  {
   "cell_type": "code",
   "execution_count": null,
   "id": "40987ff8-868d-47f7-b73a-1bffe92da447",
   "metadata": {},
   "outputs": [],
   "source": [
    "# 3. Create a Python class called `Vehicle` with attributes `color` and `speed`. Then, create a child class called `Car` that inherits from `Vehicle` and adds a `brand` attribute. Provide an example of creating a `Car` object."
   ]
  },
  {
   "cell_type": "code",
   "execution_count": 12,
   "id": "4065f5fb-5bac-4516-a134-1e23334d200e",
   "metadata": {},
   "outputs": [
    {
     "name": "stdout",
     "output_type": "stream",
     "text": [
      "\n",
      "Car Color: Black\n",
      "Car Spped: 120KM/h\n",
      "Car Brand: BMW\n",
      "\n"
     ]
    }
   ],
   "source": [
    "class vehicles:\n",
    "    def __init__(self, color, speed):\n",
    "        self.color = color\n",
    "        self.speed = speed\n",
    "\n",
    "class car(vehicles):\n",
    "    def __init__(self, color, speed, brand):\n",
    "        super().__init__(color, speed)\n",
    "        self.brand = brand\n",
    "\n",
    "\n",
    "# creating object of car\n",
    "car = car(\"Black\", \"120KM/h\",\"BMW\")\n",
    "print(f\"\"\"\n",
    "Car Color: {car.color}\n",
    "Car Spped: {car.speed}\n",
    "Car Brand: {car.brand}\n",
    "\"\"\")"
   ]
  },
  {
   "cell_type": "code",
   "execution_count": null,
   "id": "6495eba1-60cd-473e-964f-70aa61e47f54",
   "metadata": {},
   "outputs": [],
   "source": [
    "# 4. Explain the concept of method overriding in inheritance. Provide a practical example."
   ]
  },
  {
   "cell_type": "code",
   "execution_count": 13,
   "id": "6c784e46-8e58-4bb8-acbe-677f7ebf68ff",
   "metadata": {},
   "outputs": [
    {
     "name": "stdout",
     "output_type": "stream",
     "text": [
      "This is the computer\n"
     ]
    }
   ],
   "source": [
    "# Method overriding in inheritance is a concept where a subclass provides a specific implementation for a method that is already defined in its superclass. When a subclass overrides a method, it provides its own implementation, which takes precedence over the implementation in the superclass.\n",
    "class animal:\n",
    "    def draw(self):\n",
    "        return \"This is Animal\"\n",
    "class vehicles(animal):\n",
    "    def draw(self):\n",
    "        return \"This is Vehicle\"\n",
    "class computer(vehicles):\n",
    "    def draw(self):\n",
    "        return \"This is the computer\"\n",
    "\n",
    "object = computer()\n",
    "print(object.draw())"
   ]
  },
  {
   "cell_type": "code",
   "execution_count": null,
   "id": "8f4abbae-3ad2-40cd-99d7-23bda35d0687",
   "metadata": {},
   "outputs": [],
   "source": [
    "# 5. How can you access the methods and attributes of a parent class from a child class in Python? Give an example."
   ]
  },
  {
   "cell_type": "code",
   "execution_count": 17,
   "id": "b00e9349-c753-4c50-ad88-9749b32087e6",
   "metadata": {},
   "outputs": [
    {
     "name": "stdout",
     "output_type": "stream",
     "text": [
      "This is parent Method with Attribute Called\n"
     ]
    }
   ],
   "source": [
    "class class1:\n",
    "    def __init__(self, msg):\n",
    "        self.msg = msg\n",
    "    def method(self):\n",
    "        print(f\"This is parent Method with Attribute {self.msg}\")\n",
    "class class2(class1):\n",
    "    def __init__(self, msg):\n",
    "        super().__init__(msg)\n",
    "    def method2(self):\n",
    "        super().method()\n",
    "\n",
    "# call object\n",
    "cls = class2(\"Called\")\n",
    "cls.method2()"
   ]
  },
  {
   "cell_type": "code",
   "execution_count": null,
   "id": "8155b110-751b-4ddf-b6e8-d4f60bb99322",
   "metadata": {},
   "outputs": [],
   "source": [
    "# 6. Discuss the use of the `super()` function in Python inheritance. When and why is it used? Provide an example."
   ]
  },
  {
   "cell_type": "markdown",
   "id": "35a72e16-a9c6-4fb1-957f-d905f672dfcb",
   "metadata": {},
   "source": [
    "The super() function in Python is used in the context of inheritance to refer to the parent class and call its methods. It is particularly useful when you want to invoke methods or the constructor of the superclass from within a subclass. \n",
    "\n",
    "super() provides a way to delegate the method or constructor call to the parent class, allowing you to reuse and extend functionality."
   ]
  },
  {
   "cell_type": "code",
   "execution_count": 18,
   "id": "e2b71340-4011-48e3-bb10-2b0e9516c4e6",
   "metadata": {},
   "outputs": [
    {
     "name": "stdout",
     "output_type": "stream",
     "text": [
      "Display Note:  This is Note\n"
     ]
    }
   ],
   "source": [
    "class one:\n",
    "    def __init__(self, note):\n",
    "        self.note = note\n",
    "\n",
    "class two(one):\n",
    "    def __init__(self, note):\n",
    "        super().__init__(note)\n",
    "    def display_note(self):\n",
    "        print(f\"Display Note: \", self.note)\n",
    "\n",
    "object2 = two(\"This is Note\")\n",
    "object2.display_note()"
   ]
  },
  {
   "cell_type": "code",
   "execution_count": null,
   "id": "28368c6e-6e4a-4ee9-916c-5c7a02b00181",
   "metadata": {},
   "outputs": [],
   "source": [
    "# 7. Create a Python class called `Animal` with a method `speak()`. Then, create child classes `Dog` and `Cat`"
   ]
  },
  {
   "cell_type": "code",
   "execution_count": 21,
   "id": "b0c3cf8e-542c-4bae-8aba-28a1a6ca826a",
   "metadata": {},
   "outputs": [
    {
     "name": "stdout",
     "output_type": "stream",
     "text": [
      "Dog Barks\n",
      "Cat Meows\n"
     ]
    }
   ],
   "source": [
    "class animal:\n",
    "    def speak(self):\n",
    "        print(\"Animal Speak\")\n",
    "class dog(animal):\n",
    "    def speak(self):\n",
    "        print(\"Dog Barks\")\n",
    "\n",
    "class cat(animal):\n",
    "    def speak(self):\n",
    "        print(\"Cat Meows\")\n",
    "\n",
    "dog = dog()\n",
    "cat = cat()\n",
    "dog.speak()\n",
    "cat.speak()"
   ]
  },
  {
   "cell_type": "code",
   "execution_count": null,
   "id": "d19dc55d-5893-40a7-8d33-0963610035db",
   "metadata": {},
   "outputs": [],
   "source": [
    "# 8. Explain the role of the `isinstance()` function in Python and how it relates to inheritance."
   ]
  },
  {
   "cell_type": "markdown",
   "id": "02be3565-a58e-45ed-b52a-b99193274052",
   "metadata": {},
   "source": [
    "The isinstance() function in Python is used to check if an object belongs to a particular class or is an instance of a particular type. It plays a crucial role in type checking and is often used in situations where you need to determine the type of an object at runtime.\n",
    "\n",
    "In the context of inheritance, the isinstance() function is useful for checking whether an object is an instance of a specific class or its subclasses. This allows you to perform conditional logic based on the type of an object in a way that respects the inheritance hierarchy."
   ]
  },
  {
   "cell_type": "code",
   "execution_count": null,
   "id": "954ca8c3-5202-4f7d-a705-8ea3700b8315",
   "metadata": {},
   "outputs": [],
   "source": [
    "# 9. What is the purpose of the `issubclass()` function in Python? Provide an example."
   ]
  },
  {
   "cell_type": "markdown",
   "id": "e8c46274-1d67-49b5-8dcb-308dd4b09470",
   "metadata": {},
   "source": [
    "The issubclass() function in Python is used to check whether a class is a subclass of another class. It returns True if the given class is indeed a subclass of the specified class, and False otherwise."
   ]
  },
  {
   "cell_type": "code",
   "execution_count": 25,
   "id": "94140ace-7708-485a-85f0-5710884c03ef",
   "metadata": {},
   "outputs": [
    {
     "name": "stdout",
     "output_type": "stream",
     "text": [
      "False\n"
     ]
    }
   ],
   "source": [
    "class Animal:\n",
    "    pass\n",
    "class Dog:\n",
    "    pass\n",
    "class Cat(Animal):\n",
    "    pass\n",
    "\n",
    "print(issubclass(Dog, Animal))"
   ]
  },
  {
   "cell_type": "code",
   "execution_count": null,
   "id": "252bb20f-356d-4f58-becc-3a5bbaf73c46",
   "metadata": {},
   "outputs": [],
   "source": [
    "# 10. Discuss the concept of constructor inheritance in Python. How are constructors inherited in child classes?"
   ]
  },
  {
   "cell_type": "markdown",
   "id": "5a880971-0159-4994-991d-cfa45b950bcf",
   "metadata": {},
   "source": [
    "constructor inheritance refers to the way constructors are inherited from a parent class to its child classes in an inheritance hierarchy. When a child class is created, it can inherit the constructor of its parent class, which allows it to reuse the initialization logic provided by the parent. This is achieved using the super() function."
   ]
  },
  {
   "cell_type": "code",
   "execution_count": null,
   "id": "910b5c00-ac8e-46f0-96c3-c44282ba5e45",
   "metadata": {},
   "outputs": [],
   "source": [
    "# 11. Create a Python class called `Shape` with a method `area()` that calculates the area of a shape. Then, create child classes `Circle` and `Rectangle` that inherit from `Shape` and implement the `area()` method accordingly. Provide an example."
   ]
  },
  {
   "cell_type": "code",
   "execution_count": 27,
   "id": "84376174-eb10-4861-9a49-166496a28bd2",
   "metadata": {},
   "outputs": [
    {
     "name": "stdout",
     "output_type": "stream",
     "text": [
      "\n",
      "Circle Area: 50.24\n",
      "Rectangle Area: 20\n",
      "\n"
     ]
    }
   ],
   "source": [
    "class shape:\n",
    "    def area(self):\n",
    "        return \"Shape Area is\"\n",
    "class circle(shape):\n",
    "    def __init__(self, radius):\n",
    "        self.radius = radius\n",
    "    def area(self):\n",
    "        return 3.14 * self.radius ** 2\n",
    "class rectangle(shape):\n",
    "    def __init__(self, length, width):\n",
    "        self.length = length\n",
    "        self.width = width\n",
    "    def area(self):\n",
    "        return self.length * self.width\n",
    "\n",
    "circle = circle(4)\n",
    "rectangle = rectangle(4,5)\n",
    "print(f\"\"\"\n",
    "Circle Area: {circle.area()}\n",
    "Rectangle Area: {rectangle.area()}\n",
    "\"\"\")"
   ]
  },
  {
   "cell_type": "code",
   "execution_count": null,
   "id": "b53be080-358d-47ff-9bdc-70b497a8ded5",
   "metadata": {},
   "outputs": [],
   "source": [
    "# 12. Explain the use of abstract base classes (ABCs) in Python and how they relate to inheritance. Provide an example using the `abc` module."
   ]
  },
  {
   "cell_type": "markdown",
   "id": "c84dee16-e3f5-449b-bb7c-3bf5939c9a67",
   "metadata": {},
   "source": [
    "Abstract Base Classes (ABCs) in Python are a way to define abstract classes and abstract methods, which are classes and methods that must be implemented by their subclasses. ABCs provide a mechanism for enforcing a certain interface or contract in a hierarchy of classes."
   ]
  },
  {
   "cell_type": "code",
   "execution_count": 31,
   "id": "05287ed7-c5c1-42c5-9afb-98b329e9fc97",
   "metadata": {},
   "outputs": [
    {
     "name": "stdout",
     "output_type": "stream",
     "text": [
      "Logging\n"
     ]
    }
   ],
   "source": [
    "# Example:\n",
    "from abc import ABC, abstractmethod\n",
    "class bankapp(ABC):\n",
    "    def database(self):\n",
    "        print(\"Connected to database\")\n",
    "    @abstractmethod\n",
    "    def security(self):\n",
    "        pass\n",
    "class mobileapp(bankapp):\n",
    "    def login(self):\n",
    "        print(\"Logging\")\n",
    "    def security(self):\n",
    "        pass\n",
    "\n",
    "# call class\n",
    "object = mobileapp()\n",
    "object.login()"
   ]
  },
  {
   "cell_type": "code",
   "execution_count": null,
   "id": "34f828af-d227-465b-94bd-ef439a5ce220",
   "metadata": {},
   "outputs": [],
   "source": [
    "# 13. How can you prevent a child class from modifying certain attributes or methods inherited from a parent class in Python?"
   ]
  },
  {
   "cell_type": "markdown",
   "id": "3389fd01-3986-4212-8a8f-59cf5f385625",
   "metadata": {},
   "source": [
    "In Python, you can prevent a child class from modifying certain attributes or methods inherited from a parent class by using various mechanisms, such as encapsulation, name mangling, and properties. Here are a few approaches:\n",
    "\n",
    "Encapsulation: Make the attributes or methods you want to protect private by prefixing their names with a double underscore (__). This doesn't prevent modification entirely, but it signals that these members should be treated as private, and external code should not modify them\n",
    "\n",
    "Name Mangling: Use name mangling by adding a single underscore and the class name as a prefix to the attribute or method. This is a convention in Python to make the attribute or method more difficult to access or modify from outside the class.\n"
   ]
  },
  {
   "cell_type": "code",
   "execution_count": 34,
   "id": "e9599538-460e-42bb-997d-1854a09f8115",
   "metadata": {},
   "outputs": [],
   "source": [
    "# example: \n",
    "class normal:\n",
    "    def __init__(self):\n",
    "        self._msg = \"Protected\"\n",
    "\n",
    "class normal2(normal):\n",
    "    def __init__(self, val=\"hello\"):\n",
    "        self.msg = val\n"
   ]
  },
  {
   "cell_type": "code",
   "execution_count": null,
   "id": "7830013c-b66e-4b66-9e06-cca26375ad50",
   "metadata": {},
   "outputs": [],
   "source": [
    "# 14. Create a Python class called `Employee` with attributes `name` and `salary`. Then, create a child class `Manager` that inherits from `Employee` and adds an attribute `department`. Provide an example."
   ]
  },
  {
   "cell_type": "code",
   "execution_count": 35,
   "id": "dd99bb71-d396-4b22-80df-9454aef02519",
   "metadata": {},
   "outputs": [
    {
     "name": "stdout",
     "output_type": "stream",
     "text": [
      " \n",
      "Name: Aadi\n",
      "Salary: 100000\n",
      "Department: OOP\n",
      "\n"
     ]
    }
   ],
   "source": [
    "class employee:\n",
    "    def __init__(self, name, salary):\n",
    "        self.name = name\n",
    "        self.salary = salary\n",
    "class manager(employee):\n",
    "    def __init__(self, name, salary, department):\n",
    "        super().__init__(name, salary)\n",
    "        self.department = department\n",
    "\n",
    "object = manager(\"Aadi\",100000,\"OOP\")\n",
    "print(f\"\"\" \n",
    "Name: {object.name}\n",
    "Salary: {object.salary}\n",
    "Department: {object.department}\n",
    "\"\"\")"
   ]
  },
  {
   "cell_type": "code",
   "execution_count": null,
   "id": "ce354248-186a-450a-9537-e2b0f6d8624e",
   "metadata": {},
   "outputs": [],
   "source": [
    "# 15. Discuss the concept of method overloading in Python inheritance. How does it differ from method overriding?"
   ]
  },
  {
   "cell_type": "markdown",
   "id": "1eb0c6fb-cf7f-4b8c-910e-2713ec364fed",
   "metadata": {},
   "source": [
    "Method overloading is not supported in Python in the traditional sense (i.e., defining multiple methods with the same name but different parameter lists). Instead, you can use default parameters or variable-length argument lists.\n",
    "\n",
    "Method overriding occurs when a subclass provides a specific implementation for a method already defined in its superclass."
   ]
  },
  {
   "cell_type": "code",
   "execution_count": null,
   "id": "81304486-a8a2-4f8f-ab16-acd736de3dc2",
   "metadata": {},
   "outputs": [],
   "source": [
    "# 16. Explain the purpose of the `__init__()` method in Python inheritance and how it is utilized in child classes."
   ]
  },
  {
   "cell_type": "markdown",
   "id": "e2503c88-184d-4764-8c78-b37fe47e7431",
   "metadata": {},
   "source": [
    "The init() method in Python is used for object initialization. It is called when an object is created from a class.\n",
    "In child classes, it can be used to initialize attributes inherited from the parent class by calling the parent class's init() method using super()."
   ]
  },
  {
   "cell_type": "code",
   "execution_count": null,
   "id": "fb99429c-592c-44bc-97f9-3bbecabe41cf",
   "metadata": {},
   "outputs": [],
   "source": [
    "# 17. Create a Python class called `Bird` with a method `fly()`. Then, create child classes `Eagle` and `Sparrow` that inherit from `Bird` and implement the `fly()` method differently. Provide an example of using these classes."
   ]
  },
  {
   "cell_type": "code",
   "execution_count": 36,
   "id": "a75b2c28-36e8-4150-aadd-c20dfabf70c5",
   "metadata": {},
   "outputs": [
    {
     "name": "stdout",
     "output_type": "stream",
     "text": [
      "Eagle Flies So High\n",
      "Sparrow Flies Little Bit Slow\n"
     ]
    }
   ],
   "source": [
    "class bird:\n",
    "    def fly(self):\n",
    "        pass\n",
    "\n",
    "class eagle(bird):\n",
    "    def fly(self):\n",
    "        print(\"Eagle Flies So High\")\n",
    "\n",
    "class sparrow(bird):\n",
    "    def fly(self):\n",
    "        print(\"Sparrow Flies Little Bit Slow\")\n",
    "\n",
    "# making object\n",
    "eagle = eagle()\n",
    "sparrow = sparrow()\n",
    "eagle.fly()\n",
    "sparrow.fly()"
   ]
  },
  {
   "cell_type": "code",
   "execution_count": null,
   "id": "e0269e1d-a025-4cc7-b685-2ffbba1b2fef",
   "metadata": {},
   "outputs": [],
   "source": [
    "# 18. What is the \"diamond problem\" in multiple inheritance, and how does Python address it?"
   ]
  },
  {
   "cell_type": "markdown",
   "id": "029d0875-9fc0-4fd0-9002-53694804d11f",
   "metadata": {},
   "source": [
    "The \"diamond problem\" is a complication that arises in multiple inheritance when a subclass inherits from two classes that have a common ancestor.\n",
    "\n",
    "this problem is addressed using a method resolution order (MRO) mechanism. Python follows a specific order to resolve method calls when there's ambiguity."
   ]
  },
  {
   "cell_type": "code",
   "execution_count": null,
   "id": "2eb3a515-afa8-407d-af71-99a6249a4404",
   "metadata": {},
   "outputs": [],
   "source": [
    "# 19. Discuss the concept of \"is-a\" and \"has-a\" relationships in inheritance, and provide examples of each."
   ]
  },
  {
   "cell_type": "markdown",
   "id": "062a2cda-c84e-425c-bfbc-3ce6526f9e0c",
   "metadata": {},
   "source": [
    "\"is-a\" relationship: Inheritance represents an \"is-a\" relationship, meaning that a subclass is a specialized version of its superclass.\n",
    "Example: A Car is a type of Vehicle, so Car inherits from Vehicle.\n",
    "\n",
    "\"has-a\" relationship: Composition represents a \"has-a\" relationship, where a class contains another class as an attribute. Example: A Car has an Engine, so Car contains an instance of the Engine class as an attribute."
   ]
  },
  {
   "cell_type": "code",
   "execution_count": 37,
   "id": "9866de14-9397-4151-837a-81002f2a1904",
   "metadata": {},
   "outputs": [
    {
     "name": "stdout",
     "output_type": "stream",
     "text": [
      "Woof!\n",
      "Meow!\n",
      "Car started. Engine started.\n"
     ]
    }
   ],
   "source": [
    "# Example:\n",
    "# is-a\n",
    "class Animal:\n",
    "    def speak(self):\n",
    "        pass\n",
    "\n",
    "class Dog(Animal):\n",
    "    def speak(self):\n",
    "        return \"Woof!\"\n",
    "\n",
    "class Cat(Animal):\n",
    "    def speak(self):\n",
    "        return \"Meow!\"\n",
    "\n",
    "# Usage\n",
    "dog = Dog()\n",
    "print(dog.speak())  # Output: Woof!\n",
    "\n",
    "cat = Cat()\n",
    "print(cat.speak())  # Output: Meow!\n",
    "\n",
    "# has-a\n",
    "class Engine:\n",
    "    def start(self):\n",
    "        return \"Engine started.\"\n",
    "\n",
    "class Car:\n",
    "    def __init__(self):\n",
    "        self.engine = Engine()\n",
    "\n",
    "    def start_car(self):\n",
    "        return f\"Car started. {self.engine.start()}\"\n",
    "\n",
    "# Usage\n",
    "car = Car()\n",
    "print(car.start_car())  # Output: Car started. Engine started.\n"
   ]
  },
  {
   "cell_type": "code",
   "execution_count": null,
   "id": "aeb6f1ab-02e6-4075-a706-6ab5ecdc8eea",
   "metadata": {},
   "outputs": [],
   "source": [
    "# 20. Create a Python class hierarchy for a university system. Start with a base class `Person` and create child classes `Student` and `Professor`, each with their own attributes and methods. Provide an example of using these classes in a university context."
   ]
  },
  {
   "cell_type": "code",
   "execution_count": 47,
   "id": "f8ed5642-fcab-4b7d-a6c6-66e9c6678558",
   "metadata": {},
   "outputs": [
    {
     "name": "stdout",
     "output_type": "stream",
     "text": [
      "\n",
      "        Person Name: bm\n",
      "        Person Age: 21\n",
      "        \n",
      "\n",
      "        Person Name: bm\n",
      "        Person Age: 21\n",
      "        Student ID: 12545\n",
      "        \n",
      "\n",
      "        Person Name: bm\n",
      "        Person Age: 21\n",
      "        Student ID: 12545\n",
      "        Employee ID: 2232\n",
      "        \n"
     ]
    }
   ],
   "source": [
    "class person:\n",
    "    def __init__(self, name, age):\n",
    "        self.name = name\n",
    "        self.age = age\n",
    "    def get_person(self):\n",
    "        print(f\"\"\"\n",
    "        Person Name: {self.name}\n",
    "        Person Age: {self.age}\n",
    "        \"\"\")\n",
    "class student(person):\n",
    "    def __init__(self, name, age, student_id):\n",
    "        super().__init__(name, age)\n",
    "        self.student_id = student_id\n",
    "\n",
    "    def get_student(self):\n",
    "        print(f\"\"\"\n",
    "        Person Name: {self.name}\n",
    "        Person Age: {self.age}\n",
    "        Student ID: {self.student_id}\n",
    "        \"\"\")\n",
    "\n",
    "class professor(student):\n",
    "    def __init__(self, name, age, student_id, employee_id):\n",
    "        super().__init__(name, age, student_id)\n",
    "        self.employee_id = employee_id\n",
    "    def get_professor(self):\n",
    "        print(f\"\"\"\n",
    "        Person Name: {self.name}\n",
    "        Person Age: {self.age}\n",
    "        Student ID: {self.student_id}\n",
    "        Employee ID: {self.employee_id}\n",
    "        \"\"\")\n",
    "\n",
    "person = person(\"bm\",21)\n",
    "student = student(\"bm\", \"21\",12545)\n",
    "professor = professor(\"bm\", \"21\",12545,2232)\n",
    "\n",
    "person.get_person()\n",
    "student.get_student()\n",
    "professor.get_professor()"
   ]
  },
  {
   "cell_type": "code",
   "execution_count": null,
   "id": "f5689a9c-22ab-47cd-919b-cf57aa3a9dfc",
   "metadata": {},
   "outputs": [],
   "source": [
    "# Encapsulation:"
   ]
  },
  {
   "cell_type": "code",
   "execution_count": null,
   "id": "3c580fc5-ae12-4050-b7ef-55cfe25e5632",
   "metadata": {},
   "outputs": [],
   "source": [
    "# 1. Explain the concept of encapsulation in Python. What is its role in object-oriented programming?"
   ]
  },
  {
   "cell_type": "markdown",
   "id": "3a74147c-551e-4033-ae4d-7a65b5183c2d",
   "metadata": {},
   "source": [
    "Encapsulation is one of the fundamental principles of object-oriented programming (OOP) and refers to the bundling of data and methods that operate on that data within a single unit, known as a class. It involves restricting access to some of an object's components and only exposing what is necessary for the outside world to interact with the object. Encapsulation helps in hiding the internal implementation details of a class and allows the object to manage its own state."
   ]
  },
  {
   "cell_type": "code",
   "execution_count": null,
   "id": "87800c0c-b632-48a2-a458-8bced059ef9a",
   "metadata": {},
   "outputs": [],
   "source": [
    "# 2. Describe the key principles of encapsulation, including access control and data hiding."
   ]
  },
  {
   "cell_type": "markdown",
   "id": "e8743244-02e4-419a-b7a9-12066fa86f83",
   "metadata": {},
   "source": [
    "Encapsulation is a fundamental principle of object-oriented programming (OOP) that involves bundling data (attributes) and the methods (functions) that operate on that data within a single unit, known as a class. The key principles of encapsulation include access control and data hiding.\n",
    "\n",
    "Access Control:\n",
    "Access control refers to the mechanisms that regulate which parts of a class are accessible from outside the class. In Python, access control is achieved through naming conventions and not through strict keywords like public, private, or protected as in some other programming languages.\n",
    "\n",
    "Data Hiding:\n",
    "Data hiding involves restricting direct access to certain attributes, especially those considered private to the class. The idea is to shield the internal details of a class from external code to ensure better control and maintainability."
   ]
  },
  {
   "cell_type": "code",
   "execution_count": null,
   "id": "e3368705-59b3-41c0-86c0-380503ce265a",
   "metadata": {},
   "outputs": [],
   "source": [
    "# 3. How can you achieve encapsulation in Python classes? Provide an example."
   ]
  },
  {
   "cell_type": "markdown",
   "id": "4451fddf-64cf-4cb6-aa87-2276fb031714",
   "metadata": {},
   "source": [
    "encapsulation is achieved through naming conventions and access control. While Python does not have strict access modifiers like public, private, or protected"
   ]
  },
  {
   "cell_type": "code",
   "execution_count": null,
   "id": "9e82a62f-b506-4a08-9e30-c349707a38dc",
   "metadata": {},
   "outputs": [],
   "source": [
    "# Example:\n",
    "class enc:\n",
    "    def __init__(self):\n",
    "        self.public_attr = \"This is Public Data\"\n",
    "        self._protected_attr = \"This is Protected Data\"\n",
    "        self.__private_attr = \"This is Private Attr\"\n",
    "        \n",
    "object = enc():"
   ]
  },
  {
   "cell_type": "code",
   "execution_count": null,
   "id": "1a2afd02-ee69-416a-9264-2e784fbc6412",
   "metadata": {},
   "outputs": [],
   "source": [
    "# 4. Discuss the difference between public, private, and protected access modifiers in Python."
   ]
  },
  {
   "cell_type": "markdown",
   "id": "9d80b055-9893-43b8-a0af-441698f34b56",
   "metadata": {},
   "source": [
    "Public:\n",
    "public_attribute and public_method are considered public and can be accessed from outside the class without restrictions.\n",
    "\n",
    "Protected: \n",
    "protected_attribute and _protected_method are considered protected, and their access is indicated by a single leading underscore. While it's possible to access them from outside the class, it's a convention to treat them as protected.\n",
    "\n",
    "Private:\n",
    "__private_attribute and __private_method are considered private, and their access is indicated by a double leading underscore. Python uses name mangling to make it more difficult to access these attributes and methods from outside the class."
   ]
  },
  {
   "cell_type": "code",
   "execution_count": null,
   "id": "5a8be091-6e75-43c3-90ad-1ead6b66a2b4",
   "metadata": {},
   "outputs": [],
   "source": [
    "# 5. Create a Python class called `Person` with a private attribute `__name`. Provide methods to get and set the name attribute."
   ]
  },
  {
   "cell_type": "code",
   "execution_count": 4,
   "id": "6bdba71a-35b1-468c-8247-52d734e247d4",
   "metadata": {},
   "outputs": [
    {
     "data": {
      "text/plain": [
       "'Addit2'"
      ]
     },
     "execution_count": 4,
     "metadata": {},
     "output_type": "execute_result"
    }
   ],
   "source": [
    "class person:\n",
    "    def __init__(self, name):\n",
    "        self.__name = name\n",
    "\n",
    "    def get_name(self):\n",
    "        return self.__name\n",
    "\n",
    "    def set_name(self, new_value):\n",
    "        self.__name = new_value\n",
    "\n",
    "person = person(\"Addit\")\n",
    "# get name \n",
    "person.get_name()\n",
    "# set name\n",
    "person.set_name(\"Addit2\")\n",
    "# check again\n",
    "person.get_name()"
   ]
  },
  {
   "cell_type": "code",
   "execution_count": null,
   "id": "e91ae9c1-5c29-4db1-8d9f-667b8db4224d",
   "metadata": {},
   "outputs": [],
   "source": [
    "# 6. Explain the purpose of getter and setter methods in encapsulation. Provide examples."
   ]
  },
  {
   "cell_type": "markdown",
   "id": "6f2cc242-17ce-4f9b-b0e2-d2a678b9c85b",
   "metadata": {},
   "source": [
    "Getter and setter methods play a crucial role in encapsulation by providing controlled access to the attributes (data members) of a class. They allow you to encapsulate the internal state of an object and define a clear interface for interacting with that state. The purpose of getter and setter methods includes:\n",
    "\n",
    "Getter methods allow controlled access to the values of private attributes. By providing a method to get the value of an attribute, you can encapsulate the internal representation and expose it in a controlled manner."
   ]
  },
  {
   "cell_type": "code",
   "execution_count": 7,
   "id": "35a4b576-3c22-4ab5-a66c-748e01fa7826",
   "metadata": {},
   "outputs": [
    {
     "data": {
      "text/plain": [
       "'DSA in JAVA'"
      ]
     },
     "execution_count": 7,
     "metadata": {},
     "output_type": "execute_result"
    }
   ],
   "source": [
    "# Example:\n",
    "class book:\n",
    "    def __init__(self, book_title):\n",
    "        self.__book_title = book_title\n",
    "\n",
    "    def getter(self):\n",
    "        return self.__book_title\n",
    "\n",
    "    def setter(self, new_book_title):\n",
    "        self.__book_title = new_book_title\n",
    "\n",
    "# call class \n",
    "book = book(\"Python in DSA\")\n",
    "# get\n",
    "book.getter()\n",
    "# setter\n",
    "book.setter(\"DSA in JAVA\")\n",
    "# call again \n",
    "book.getter()"
   ]
  },
  {
   "cell_type": "code",
   "execution_count": null,
   "id": "9f532cb4-ea77-4786-a23b-d5636093dc4e",
   "metadata": {},
   "outputs": [],
   "source": [
    "# 7. What is name mangling in Python, and how does it affect encapsulation?"
   ]
  },
  {
   "cell_type": "markdown",
   "id": "57000780-80db-4124-a185-e9b1c110becf",
   "metadata": {},
   "source": [
    "Ans: Name mangling is a mechanism in Python that changes the name of a variable or method to make it more difficult to accidentally override or access it from outside the class. This is a way to implement a form of \"private\" or \"protected\" members in a class.\n",
    "\n",
    "In Python, a double underscore (__) prefix to a variable or method name triggers name mangling. When you define a variable or method with a name like __variable or __method, Python internally changes the name to _classname__variable or _classname__method, where classname is the name of the class."
   ]
  },
  {
   "cell_type": "code",
   "execution_count": null,
   "id": "17930010-4166-4e66-a15d-547d59438f18",
   "metadata": {},
   "outputs": [],
   "source": [
    "# 8. Create a Python class called `BankAccount` with private attributes for the account balance (`__balance`) and (`__account_number`) provide method to deposit and withdraw money"
   ]
  },
  {
   "cell_type": "code",
   "execution_count": 5,
   "id": "db4f1f5f-f8e6-4607-9753-7561f4a62387",
   "metadata": {},
   "outputs": [
    {
     "name": "stdout",
     "output_type": "stream",
     "text": [
      "1 is withdrawed successfully. Avl Balance: 9\n",
      "2 is deposited successfully. current balance is 11\n"
     ]
    }
   ],
   "source": [
    "class bankaccount:\n",
    "    def __init__(self, balance, account_number):\n",
    "        self.__balance = balance\n",
    "        self.__account_number = account_number\n",
    "\n",
    "    def withdraw_money(self, withdraw_amount):\n",
    "        if self.__balance >= withdraw_amount:\n",
    "            self.__balance -= withdraw_amount\n",
    "            print(f\"{withdraw_amount} is withdrawed successfully. Avl Balance: {self.__balance}\")\n",
    "        else:\n",
    "            print(\"Insufficient Balance\")\n",
    "\n",
    "    def deposit_money(self, deposit_amount):\n",
    "        if deposit_amount > 0:\n",
    "            self.__balance += deposit_amount\n",
    "            print(f\"{deposit_amount} is deposited successfully. current balance is {self.__balance}\")\n",
    "        else:\n",
    "            print(\"please enter valid amount\")\n",
    "\n",
    "bank = bankaccount(10,66464874121)\n",
    "bank.withdraw_money(1)\n",
    "bank.deposit_money(2)"
   ]
  },
  {
   "cell_type": "code",
   "execution_count": null,
   "id": "4f9e278d-0f75-4190-bc5b-35acbfe54029",
   "metadata": {},
   "outputs": [],
   "source": [
    "# 9. Discuss the advantages of encapsulation in terms of code maintainability and security."
   ]
  },
  {
   "cell_type": "markdown",
   "id": "6b02115c-8968-4bbb-9095-b2310b1ed136",
   "metadata": {},
   "source": [
    "Ans: Encapsulation is one of the fundamental principles of object-oriented programming (OOP) and provides several advantages in terms of code maintainability and security:\n",
    "\n",
    "Modularity and Abstraction:\n",
    "Encapsulation allows you to organize your code into manageable units (classes and objects). Each class encapsulates its internal details, exposing only what is necessary for external interaction. This makes the codebase modular and easier to understand.\n",
    "\n",
    "Security:\n",
    "Controlled Access: Encapsulation provides a way to control access to the internal state of an object. By using access modifiers (like private, protected, and public), you can restrict access to certain members of a class. This helps in preventing unintended modifications or misuse of data."
   ]
  },
  {
   "cell_type": "code",
   "execution_count": null,
   "id": "3d56c701-b007-46ea-9c9b-3fc97a800701",
   "metadata": {},
   "outputs": [],
   "source": [
    "# 10. How can you access private attributes in Python? Provide an example demonstrating the use of name mangling."
   ]
  },
  {
   "cell_type": "markdown",
   "id": "645ae0e7-d083-4cf3-83ab-0bc9917150ca",
   "metadata": {},
   "source": [
    "Ans: In Python, private attributes are conventionally marked by using a double underscore (__) prefix. However, it's important to note that these attributes are not truly private, and there is a way to access them using name mangling.\n",
    "\n",
    "Name mangling involves changing the name of a variable by adding a prefix with the form _classname before the variable name. Here's an example to demonstrate how to access private attributes using name mangling:"
   ]
  },
  {
   "cell_type": "code",
   "execution_count": 8,
   "id": "98361d9c-fbb0-49e7-b466-8cc5f0602546",
   "metadata": {},
   "outputs": [
    {
     "data": {
      "text/plain": [
       "'Private Message'"
      ]
     },
     "execution_count": 8,
     "metadata": {},
     "output_type": "execute_result"
    }
   ],
   "source": [
    "# Example:\n",
    "class randomcls:\n",
    "    def __init__(self):\n",
    "        self.__private_var = \"Private Message\"\n",
    "\n",
    "mangling = randomcls()\n",
    "# access variable \n",
    "mangling._randomcls__private_var"
   ]
  },
  {
   "cell_type": "code",
   "execution_count": null,
   "id": "468fe9f3-7bcf-443b-bfef-2634fd91953e",
   "metadata": {},
   "outputs": [],
   "source": [
    "# 11. Create a Python class hierarchy for a school system, including classes for students, teachers, and courses, and implement encapsulation principles to protect sensitive information."
   ]
  },
  {
   "cell_type": "code",
   "execution_count": 29,
   "id": "f40b3de4-e579-41c8-968a-8bcde916fde5",
   "metadata": {},
   "outputs": [
    {
     "name": "stdout",
     "output_type": "stream",
     "text": [
      "\n",
      "Students: [['BM', 'RAJ']]\n",
      "Teachers: [['Javed', 'Subh']]\n",
      "Courses: [['DSA', 'Ethical Hacking']]\n",
      "\n"
     ]
    }
   ],
   "source": [
    "class student:\n",
    "    def __init__(self,student_name):\n",
    "        self._student_name = []\n",
    "        \n",
    "    def student_assign(self, student_name):\n",
    "        self._student_name.append(student_name)\n",
    "        \n",
    "    def get_student(self):\n",
    "        return self._student_name\n",
    "        \n",
    "class teacher:\n",
    "    def __init__(self, teacher_name):\n",
    "        self._teacher_name = []\n",
    "        \n",
    "    def assign_teacher(self, teacher_name):\n",
    "        self._teacher_name.append(teacher_name)\n",
    "\n",
    "    def get_teacher(self):\n",
    "        return self._teacher_name\n",
    "\n",
    "class course:\n",
    "    def __init__(self, course_name):\n",
    "        self._course = []\n",
    "\n",
    "    def assign_course(self, course_name):\n",
    "        self._course.append(course_name)\n",
    "\n",
    "    def get_course(self):\n",
    "        return self._course\n",
    "\n",
    "student  = student(\"BM\")\n",
    "teacher  = teacher(\"Javed\")\n",
    "course  = course(\"DSA\")\n",
    "\n",
    "# assign\n",
    "student.student_assign([\"BM\", \"RAJ\"])\n",
    "teacher.assign_teacher([\"Javed\", \"Subh\"])\n",
    "course.assign_course([\"DSA\", \"Ethical Hacking\"])\n",
    "\n",
    "print(f\"\"\"\n",
    "Students: {student.get_student()}\n",
    "Teachers: {teacher.get_teacher()}\n",
    "Courses: {course.get_course()}\n",
    "\"\"\")"
   ]
  },
  {
   "cell_type": "code",
   "execution_count": null,
   "id": "4e3d7729-b01e-46eb-91f4-83d8c1938900",
   "metadata": {},
   "outputs": [],
   "source": [
    "# 12. Explain the concept of property decorators in Python and how they relate to encapsulation."
   ]
  },
  {
   "cell_type": "markdown",
   "id": "f3e2b745-277c-46e4-9ad9-3f7e4cfa4cf8",
   "metadata": {},
   "source": [
    "property decorators are a way to define getter, setter, and deleter methods for class attributes. They provide a convenient way to implement encapsulation by allowing you to control access to the attributes of a class and perform additional actions when getting, setting, or deleting their values."
   ]
  },
  {
   "cell_type": "code",
   "execution_count": null,
   "id": "4de25129-0ca3-49c1-85a7-22ada2c42af1",
   "metadata": {},
   "outputs": [],
   "source": [
    "# 13. What is data hiding, and why is it important in encapsulation? Provide examples."
   ]
  },
  {
   "cell_type": "markdown",
   "id": "61f33104-4786-4275-9e4e-0ef574fc9448",
   "metadata": {},
   "source": [
    "Ans: Data hiding is a concept in object-oriented programming (OOP) that involves restricting the access to the internal details or implementation of a class and exposing only what is necessary for the external world to interact with. This is often achieved by using access modifiers to control the visibility of attributes and methods in a class. The primary goal of data hiding is to encapsulate the internal state of an object, preventing direct access and modification from outside the class.\n",
    "\n",
    "Protection of Internal State:\n",
    "Data hiding helps protect the internal state of an object by preventing direct access to its attributes from outside the class.\n",
    "\n",
    "Encapsulation of Implementation Details:\n",
    "Encapsulation involves bundling the data (attributes) and methods that operate on the data within a single unit (class). Data hiding is crucial for encapsulation because it allows you to hide the implementation details, exposing only well-defined interfaces to the external world.\n",
    "\n",
    "Controlled Access:\n",
    "By using access modifiers (such as private or protected), data hiding allows you to control the level of access to certain attributes and methods. This control prevents external code from directly manipulating sensitive data, promoting a more secure and reliable system."
   ]
  },
  {
   "cell_type": "code",
   "execution_count": null,
   "id": "5d12ba3a-0033-43f9-856b-f730e2614d76",
   "metadata": {},
   "outputs": [],
   "source": [
    "# 14. Create a Python class called `Employee` with private attributes for salary (`__salary`) and employee ID (__employee_id) provide a method to calculate yearly bonus "
   ]
  },
  {
   "cell_type": "code",
   "execution_count": 31,
   "id": "6bc40559-21dc-4d2e-b90d-7f283e5adb67",
   "metadata": {},
   "outputs": [
    {
     "name": "stdout",
     "output_type": "stream",
     "text": [
      "Employee Bonus is: 5000.0\n"
     ]
    }
   ],
   "source": [
    "class employee:\n",
    "    def __init__(self, salary, employee_id):\n",
    "        self.__salary = salary\n",
    "        self.__employee_id = employee_id\n",
    "\n",
    "    def calculate_yearly_bonus(self):\n",
    "        bonus_percent = 0.10\n",
    "        bonus = self.__salary * bonus_percent\n",
    "        return bonus\n",
    "\n",
    "employee_bonus = employee(50000, 203)\n",
    "# find bonus \n",
    "print(f\"Employee Bonus is: {employee_bonus.calculate_yearly_bonus()}\")"
   ]
  },
  {
   "cell_type": "code",
   "execution_count": null,
   "id": "feeeca11-e169-4d7f-aa66-041cf2b868f1",
   "metadata": {},
   "outputs": [],
   "source": [
    "# 15. Discuss the use of accessors and mutators in encapsulation. How do they help maintain control over attribute access?"
   ]
  },
  {
   "cell_type": "markdown",
   "id": "87c01da6-632a-4123-b50a-7ccdd9d74c71",
   "metadata": {},
   "source": [
    "Ans: Accessors and mutators are methods used in encapsulation to control access to the attributes of a class. They help maintain control over attribute access by providing well-defined interfaces for getting and setting attribute values. These methods are commonly referred to as getter (accessor) and setter (mutator) methods.\n",
    "\n",
    "Accessors:\n",
    "Accessors are methods that provide access to the values of private attributes. They allow external code to retrieve the values without direct access to the underlying attributes.\n",
    "\n",
    "Mutators:\n",
    "Mutators are methods that provide a way to modify the values of private attributes. They allow external code to update the attribute values through a controlled interface."
   ]
  },
  {
   "cell_type": "code",
   "execution_count": null,
   "id": "c79937b8-710f-413e-89c6-42c5149f4503",
   "metadata": {},
   "outputs": [],
   "source": [
    "# 16. What are the potential drawbacks or disadvantages of using encapsulation in Python?"
   ]
  },
  {
   "cell_type": "markdown",
   "id": "4f7ccd7e-9d10-4b5f-bc88-924276c2efa2",
   "metadata": {},
   "source": [
    "Ans: While encapsulation in Python provides numerous benefits in terms of code organization, security, and maintainability, there are also potential drawbacks or disadvantages that developers should be aware of:\n",
    "\n",
    "Complexity and Overhead:\n",
    "Encapsulation introduces an additional layer of complexity to the code. Accessors and mutators, while useful, can lead to more verbose code and potentially slower performance due to the overhead of method calls.\n",
    "\n",
    "Less Direct Access:\n",
    "Encapsulation restricts direct access to attributes from outside the class. While this is intentional for maintaining control, it can be seen as a drawback for developers who prefer more direct and explicit access to attributes.\n",
    "\n",
    "Potential Misuse:\n",
    "Encapsulation in Python relies on conventions rather than strict access control. While attributes with a single leading underscore (_attribute) indicate that they are intended for internal use, they can still be accessed directly. This lack of strict enforcement can potentially lead to misuse."
   ]
  },
  {
   "cell_type": "code",
   "execution_count": null,
   "id": "30a29062-ce7b-495c-88d4-9f761e4aeba6",
   "metadata": {},
   "outputs": [],
   "source": [
    "# 17. Create a Python class for a library system that encapsulates book information, including titles, authors, and availability status."
   ]
  },
  {
   "cell_type": "code",
   "execution_count": 36,
   "id": "aa5d1358-9155-4e17-9963-70f022a6c27c",
   "metadata": {},
   "outputs": [
    {
     "name": "stdout",
     "output_type": "stream",
     "text": [
      "\n",
      "Book Title: DSA With PW\n",
      "Book Author: Sudhanashu\n",
      "Book Information: 203\n",
      "\n"
     ]
    }
   ],
   "source": [
    "class book:\n",
    "    def __init__(self, title, author, available_book):\n",
    "        self.__title = title\n",
    "        self.__author = author\n",
    "        self.__available_book = available_book\n",
    "\n",
    "    def book_information(self):\n",
    "        return self.__title, self.__author, self.__available_book\n",
    "\n",
    "book_info = book(\"DSA With PW\", \"Sudhanashu\", 203)\n",
    "# pass diffrent varibale in book information\n",
    "book_title, book_author, book_available = book_info.book_information()\n",
    "# get information\n",
    "print(f\"\"\"\n",
    "Book Title: {book_title}\n",
    "Book Author: {book_author}\n",
    "Book Information: {book_available}\n",
    "\"\"\")"
   ]
  },
  {
   "cell_type": "code",
   "execution_count": null,
   "id": "c4806119-1a37-434e-8786-3e3a4db6a77f",
   "metadata": {},
   "outputs": [],
   "source": [
    "# 18. Explain how encapsulation enhances code reusability and modularity in Python programs."
   ]
  },
  {
   "cell_type": "markdown",
   "id": "3c912ae9-33ec-46e3-ba21-096a30753174",
   "metadata": {},
   "source": [
    "Ans: Encapsulation enhances code reusability and modularity in Python programs by promoting the creation of self-contained and well-organized components (classes) that hide their internal implementation details. This brings several advantages:\n",
    "\n",
    "Isolation of Implementation:\n",
    "Encapsulation allows the internal details of a class to be hidden from external code. This isolation means that changes to the internal implementation do not affect the external code as long as the public interface (methods and attributes) remains unchanged.\n",
    "\n",
    "Clear and Defined Interfaces:\n",
    "\r\n",
    "Encapsulation encourages the definition of clear and well-defined interfaces for each class. External code interacts with the class through these interfaces, which makes it easier for developers to understand how to use the class correctl\n",
    "\n",
    "Code Modularity:\n",
    "\r\n",
    "Each encapsulated class can be considered as a module with a specific functionality. This modularity makes it easier to manage and organize code. Changes or updates to one module (class) do not necessarily impact other modules, fostering a modular and maintainable codebase.y."
   ]
  },
  {
   "cell_type": "code",
   "execution_count": null,
   "id": "89f8f9cb-5fd7-44f2-88e3-fd360044f57f",
   "metadata": {},
   "outputs": [],
   "source": [
    "# 19. Describe the concept of information hiding in encapsulation. Why is it essential in software development?"
   ]
  },
  {
   "cell_type": "markdown",
   "id": "f2b7efbe-6612-41a1-89f3-de67173d5f93",
   "metadata": {},
   "source": [
    "Ans: Information hiding is a concept in software development that is closely associated with encapsulation. It involves the deliberate concealment of certain details or implementation aspects of a software component (such as a class) and exposing only what is necessary for the external world to interact with. The primary goal is to limit access to the internal details of a class and provide a well-defined interface for external users.\n",
    "\n",
    "Private Attributes and Methods:\n",
    "\r\n",
    "Using access modifiers, such as private attributes and methods (typically denoted by a double underscore __ in Python), to restrict direct access from outside the class. This prevents external code from directly manipulating or accessing the internal state of an objec\n",
    "\n",
    "Getter and Setter Methods:\n",
    "\r\n",
    "Providing getter methods (accessors) to retrieve the values of private attributes and setter methods (mutators) to modify them. This allows controlled access to the internal state, and any necessary validation or logic can be applied within these method\n",
    "\n",
    "Limiting Interface Complexity:\n",
    "\r\n",
    "Exposing a simplified and well-designed interface to external users, abstracting away unnecessary details and complexities. This helps users interact with the class without needing to understand its internal implementation, improving usability and reducing the chance of errors.s.t."
   ]
  },
  {
   "cell_type": "code",
   "execution_count": null,
   "id": "b26179c7-59a2-44c2-a3f9-0efacc7dd1ad",
   "metadata": {},
   "outputs": [],
   "source": [
    "# 20. Create a Python class called `Customer` with private attributes for customer details like name, address, and contact information. Implement encapsulation to ensure data integrity and security."
   ]
  },
  {
   "cell_type": "code",
   "execution_count": 37,
   "id": "51b4d81a-3394-448f-9881-8ad1f7fca280",
   "metadata": {},
   "outputs": [
    {
     "name": "stdout",
     "output_type": "stream",
     "text": [
      "\n",
      "Name: BM\n",
      "Address: sector 32, Arbit 16, MD Road, GKP, 274404\n",
      "Contact: 79887955632\n",
      "\n"
     ]
    }
   ],
   "source": [
    "class customer:\n",
    "    def __init__(self, name, address, contact_no):\n",
    "        self._name = name\n",
    "        self.__address = address\n",
    "        self.__contact_no = contact_no\n",
    "\n",
    "    def get_user(self):\n",
    "        return self._name\n",
    "    def get_address(self):\n",
    "        return self.__address\n",
    "    def get_contact(self):\n",
    "        return self.__contact_no\n",
    "\n",
    "customer = customer(\"BM\", \"sector 32, Arbit 16, MD Road, GKP, 274404\", 79887955632)\n",
    "# user information \n",
    "print(f\"\"\"\n",
    "Name: {customer.get_user()}\n",
    "Address: {customer.get_address()}\n",
    "Contact: {customer.get_contact()}\n",
    "\"\"\")"
   ]
  },
  {
   "cell_type": "code",
   "execution_count": null,
   "id": "07e77a3f-f305-406a-ba1c-ea1a049f42ca",
   "metadata": {},
   "outputs": [],
   "source": [
    "# Polymorphism:"
   ]
  },
  {
   "cell_type": "code",
   "execution_count": null,
   "id": "f1d64713-eabf-4057-bf22-928f8e35ce8c",
   "metadata": {},
   "outputs": [],
   "source": [
    "# 1. What is polymorphism in Python? Explain how it is related to object-oriented programming."
   ]
  },
  {
   "cell_type": "markdown",
   "id": "06a9aa25-aff7-4b35-a446-8f8333c13ed9",
   "metadata": {},
   "source": [
    "Ans: Polymorphism is a fundamental concept in object-oriented programming (OOP) that refers to the ability of different objects to be treated as instances of a common type. It allows objects of different classes to be used interchangeably based on a shared interface or a common base class. Polymorphism simplifies code, enhances flexibility, and promotes code reuse."
   ]
  },
  {
   "cell_type": "code",
   "execution_count": null,
   "id": "7af60321-a0ed-46c7-b243-1cf0830539ae",
   "metadata": {},
   "outputs": [],
   "source": [
    "# 2. Describe the difference between compile-time polymorphism and runtime polymorphism in Python."
   ]
  },
  {
   "cell_type": "markdown",
   "id": "1bd198f3-739d-4b37-a920-971e3b0ca4fb",
   "metadata": {},
   "source": [
    "Ans: polymorphism is primarily achieved through runtime polymorphism, as it is a dynamically typed language. However, let's explore the concept of compile-time polymorphism as it is commonly associated with statically typed languages, and we'll highlight the differences between the two.\n",
    "\n",
    "Compile-time:\n",
    "Compile-time polymorphism, also known as static polymorphism or method overloading, refers to the ability to use multiple methods with the same name but different parameter types or numbers of parameters. The selection of the appropriate method occurs at compile time based on the method signature.\n",
    "\n",
    "Runtime:\n",
    "Runtime polymorphism, also known as dynamic polymorphism or method overriding, refers to the ability of objects of different classes to be treated as instances of a common type (usually a base class or interface). The actual method that gets executed is determined at runtime based on the type of the object."
   ]
  },
  {
   "cell_type": "code",
   "execution_count": null,
   "id": "7de9591b-c6b0-4ebd-a120-319b8d71bf7b",
   "metadata": {},
   "outputs": [],
   "source": [
    "# 3. Create a Python class hierarchy for shapes (e.g., circle, square, triangle) and demonstrate polymorphism through a common method, such as `calculate_area()`."
   ]
  },
  {
   "cell_type": "code",
   "execution_count": 46,
   "id": "23b3706f-a7eb-4574-a078-12dffaf1286e",
   "metadata": {},
   "outputs": [
    {
     "name": "stdout",
     "output_type": "stream",
     "text": [
      "circle - Area: 78.54\n",
      "square - Area: 16.00\n",
      "triangle - Area: 6.00\n"
     ]
    }
   ],
   "source": [
    "import math\n",
    "class shapes:\n",
    "    def calculate_area():\n",
    "        pass\n",
    "\n",
    "class circle(shapes):\n",
    "    def __init__(self, radius):\n",
    "        self.radius = radius\n",
    "        \n",
    "    def calculate_area(self):\n",
    "        return math.pi * self.radius ** 2\n",
    "\n",
    "class square(shapes):\n",
    "    def __init__(self, side_length):\n",
    "        self.side_length = side_length\n",
    "\n",
    "    def calculate_area(self):\n",
    "        return self.side_length ** 2\n",
    "\n",
    "class triangle(shapes):\n",
    "    def __init__(self, base, height):\n",
    "        self.base = base\n",
    "        self.height = height\n",
    "\n",
    "    def calculate_area(self):\n",
    "        return 0.5 * self.base * self.height\n",
    "\n",
    "shapes = [circle(5), square(4), triangle(3,4)]\n",
    "\n",
    "for shape in shapes:\n",
    "    area = shape.calculate_area()\n",
    "    print(f\"{type(shape).__name__} - Area: {area:.2f}\")"
   ]
  },
  {
   "cell_type": "code",
   "execution_count": null,
   "id": "db35b360-546e-4ff9-a3f8-c915b1c213dc",
   "metadata": {},
   "outputs": [],
   "source": [
    "# 4. Explain the concept of method overriding in polymorphism. Provide an example."
   ]
  },
  {
   "cell_type": "markdown",
   "id": "3fa72a6b-e8eb-499e-95ab-00217a7cd70f",
   "metadata": {},
   "source": [
    "Ans: Method overriding is a concept in object-oriented programming (OOP) that allows a subclass to provide a specific implementation for a method that is already defined in its superclass. When a method in a subclass has the same name, parameters, and return type as a method in its superclass, the method in the subclass overrides the method in the superclass.\n",
    "\n",
    "Key points about method overriding:\n",
    "The overridden method in the subclass should have the same method signature (name, parameters, and return type) as the method in the superclass.\n",
    "\r\n",
    "The overridden method in the subclass provides a specific implementation that is different from the one in the superclas.\r\n",
    "\r\n",
    "The overridden method is called based on the actual type of the object at runtime (runtime polymorphism)."
   ]
  },
  {
   "cell_type": "code",
   "execution_count": 47,
   "id": "6207fb08-6960-4f13-890b-01f7e8c5373b",
   "metadata": {},
   "outputs": [
    {
     "name": "stdout",
     "output_type": "stream",
     "text": [
      "Circle Area: 78.5\n",
      "Square Area: 16\n"
     ]
    }
   ],
   "source": [
    "# Example:\n",
    "class Shape:\n",
    "    def area(self):\n",
    "        return 0  # Default implementation for generic shape\n",
    "\n",
    "class Circle(Shape):\n",
    "    def __init__(self, radius):\n",
    "        self.radius = radius\n",
    "\n",
    "    def area(self):\n",
    "        return 3.14 * self.radius ** 2  # Specific implementation for a circle\n",
    "\n",
    "class Square(Shape):\n",
    "    def __init__(self, side_length):\n",
    "        self.side_length = side_length\n",
    "\n",
    "    def area(self):\n",
    "        return self.side_length ** 2  # Specific implementation for a square\n",
    "\n",
    "# Usage demonstrating method overriding and polymorphism\n",
    "circle_obj = Circle(radius=5)\n",
    "square_obj = Square(side_length=4)\n",
    "\n",
    "# Calls to overridden method area based on the actual type of the objects\n",
    "print(f\"Circle Area: {circle_obj.area()}\")\n",
    "print(f\"Square Area: {square_obj.area()}\")\n"
   ]
  },
  {
   "cell_type": "code",
   "execution_count": null,
   "id": "5e59e99c-63f4-41de-a7f4-c538133441f2",
   "metadata": {},
   "outputs": [],
   "source": [
    "# 5. How is polymorphism different from method overloading in Python? Provide examples for both."
   ]
  },
  {
   "cell_type": "markdown",
   "id": "dde62d7e-f926-43f8-8026-07bb2f01c4ff",
   "metadata": {},
   "source": [
    "Ans:\n",
    "Polymorphism is a concept in object-oriented programming that allows objects of different types to be treated as instances of a common type. It enables a single interface to represent different types, and the behavior associated with the interface can be implemented differently by each type. Polymorphism is typically achieved through method overriding.\n",
    "\n",
    "Method overloading involves defining multiple methods with the same name in a class, but with different parameter types or numbers of parameters. In Python, method overloading is not directly supported in the traditional sense as it is in some other languages. However, a form of overloading can be achieved through default parameter values and variable-length argument lists."
   ]
  },
  {
   "cell_type": "code",
   "execution_count": 48,
   "id": "6eda2f2e-8f4b-44e4-b3b3-11daccab8927",
   "metadata": {},
   "outputs": [
    {
     "name": "stdout",
     "output_type": "stream",
     "text": [
      "Woof!\n",
      "Meow!\n"
     ]
    }
   ],
   "source": [
    "# Example Polymorphism\n",
    "class Animal:\n",
    "    def make_sound(self):\n",
    "        pass  # To be overridden in subclasses\n",
    "\n",
    "class Dog(Animal):\n",
    "    def make_sound(self):\n",
    "        return \"Woof!\"\n",
    "\n",
    "class Cat(Animal):\n",
    "    def make_sound(self):\n",
    "        return \"Meow!\"\n",
    "\n",
    "# Usage demonstrating polymorphism\n",
    "dog = Dog()\n",
    "cat = Cat()\n",
    "\n",
    "animals = [dog, cat]\n",
    "\n",
    "for animal in animals:\n",
    "    print(animal.make_sound())\n"
   ]
  },
  {
   "cell_type": "code",
   "execution_count": 49,
   "id": "c3ffef1a-2cee-4133-8cbb-1b4f7cb89a52",
   "metadata": {},
   "outputs": [
    {
     "data": {
      "text/plain": [
       "6"
      ]
     },
     "execution_count": 49,
     "metadata": {},
     "output_type": "execute_result"
    }
   ],
   "source": [
    "# Example for overloading\n",
    "class addition:\n",
    "    def add(self, a, b=0, c=0):\n",
    "        return a + b + c\n",
    "\n",
    "addition = addition()\n",
    "addition.add(1)\n",
    "addition.add(1,2)\n",
    "addition.add(1,2,3)"
   ]
  },
  {
   "cell_type": "code",
   "execution_count": null,
   "id": "59062765-83f5-4207-bff9-7762bcde6254",
   "metadata": {},
   "outputs": [],
   "source": [
    "# 6. Create a Python class called `Animal` with a method `speak()`. Then, create child classes like `Dog`, `Cat`, and `Bird`, each with their own `speak()` method. Demonstrate polymorphism by calling the `speak()` method on objects of different subclasses."
   ]
  },
  {
   "cell_type": "code",
   "execution_count": null,
   "id": "7ff3a6e7-437d-4ce6-9326-b89a34cacf50",
   "metadata": {},
   "outputs": [],
   "source": [
    "class animal:\n",
    "    def speak(self):\n",
    "        return \"Animal Sound\"\n",
    "\n",
    "class dog(animal):\n",
    "    def speak(self):\n",
    "        return \"Barks\"\n",
    "\n",
    "class cat(animal):\n",
    "    def speak(self):\n",
    "        return \"Meow\"\n",
    "\n",
    "class bird(animal):\n",
    "    def speak(self):\n",
    "        return \"Tweet\"\n",
    "\n",
    "animals = [dog(), cat(), bird()]\n",
    "\n",
    "for animal in animals:\n",
    "    print(f\"Animal {type(animal).__name__}: Speak: {animal.speak()}\")"
   ]
  },
  {
   "cell_type": "code",
   "execution_count": null,
   "id": "c10a1380-c3be-4497-9881-c8ad342b5dc9",
   "metadata": {},
   "outputs": [],
   "source": [
    "# 7. Discuss the use of abstract methods and classes in achieving polymorphism in Python. Provide an example using the `abc` module."
   ]
  },
  {
   "cell_type": "markdown",
   "id": "551b4aa2-eff7-4e25-b9c5-14d3cf711472",
   "metadata": {},
   "source": [
    "Ans: Abstract methods and classes in Python are tools provided by the abc (Abstract Base Classes) module to enforce a certain structure in derived classes. Abstract classes cannot be instantiated, and they are meant to be subclassed. Abstract methods are declared in abstract classes but have no implementation in the abstract class itself. Instead, their implementation is required in concrete (non-abstract) subclasses. This mechanism helps achieve a form of polymorphism where different classes share a common interface."
   ]
  },
  {
   "cell_type": "code",
   "execution_count": 65,
   "id": "8a466e7b-1a4d-4f71-99e4-7560c3d9225a",
   "metadata": {},
   "outputs": [],
   "source": [
    "# example \n",
    "from abc import ABC, abstractmethod\n",
    "class shape(ABC):\n",
    "    @abstractmethod\n",
    "    def area(self):\n",
    "        pass\n",
    "\n",
    "class circle(shape):\n",
    "    def area(self):\n",
    "        return \"3.14\"\n",
    "\n",
    "shpaeob = circle()"
   ]
  },
  {
   "cell_type": "code",
   "execution_count": null,
   "id": "5e5a04d1-3115-4505-9963-7950f4a8de49",
   "metadata": {},
   "outputs": [],
   "source": [
    "# 8. Create a Python class hierarchy for a vehicle system (e.g., car, bicycle, boat) and implement a polymorphic `start()` method that prints a message specific to each vehicle type."
   ]
  },
  {
   "cell_type": "code",
   "execution_count": 67,
   "id": "95a7d88c-7d41-4983-b4ef-a40ee55ced30",
   "metadata": {},
   "outputs": [
    {
     "name": "stdout",
     "output_type": "stream",
     "text": [
      "Vehicle car: Type: Car has 4 Wheels\n",
      "Vehicle bicycle: Type: Bicycle has 2 wheels\n",
      "Vehicle boat: Type: Boat has no wheels\n"
     ]
    }
   ],
   "source": [
    "class vehicles:\n",
    "    def start(self):\n",
    "        pass\n",
    "\n",
    "class car(vehicles):\n",
    "    def start(self):\n",
    "        return \"Car has 4 Wheels\"\n",
    "\n",
    "class bicycle(vehicles):\n",
    "    def start(self):\n",
    "        return \"Bicycle has 2 wheels\"\n",
    "\n",
    "class boat(vehicles):\n",
    "    def start(self):\n",
    "        return \"Boat has no wheels\"\n",
    "\n",
    "vehicles = [car(), bicycle(), boat()]\n",
    "for vehicle in vehicles:\n",
    "    print(f\"Vehicle {type(vehicle).__name__}: Type: {vehicle.start()}\")"
   ]
  },
  {
   "cell_type": "code",
   "execution_count": null,
   "id": "2e50d059-2f8f-4ea7-9fd2-270b867e071f",
   "metadata": {},
   "outputs": [],
   "source": [
    "# 9. Explain the significance of the `isinstance()` and `issubclass()` functions in Python polymorphism."
   ]
  },
  {
   "cell_type": "markdown",
   "id": "2a296e99-10c1-4eb9-a758-67dd21eccc2a",
   "metadata": {},
   "source": [
    "Ans: The isinstance() and issubclass() functions in Python play significant roles in dealing with polymorphism and object-oriented programming. They provide a way to check the type or class hierarchy of objects, helping to ensure that objects adhere to certain types or classes and facilitating polymorphic behavior. Let's explore each function's significance:\n",
    "\n",
    "isinstance():\n",
    "The isinstance() function is used to check if an object is an instance of a particular class or a tuple of classes. Its significance in polymorphism includes:\n",
    "\n",
    "issubclass():\n",
    "The issubclass() function checks whether a class is a subclass of another class. Its significance in polymorphism includes:"
   ]
  },
  {
   "cell_type": "code",
   "execution_count": null,
   "id": "3f1564c0-00a4-498d-963d-f2d6d8bc5ba9",
   "metadata": {},
   "outputs": [],
   "source": [
    "# 10. What is the role of the `@abstractmethod` decorator in achieving polymorphism in Python? Provide an example."
   ]
  },
  {
   "cell_type": "markdown",
   "id": "8f889403-2ff0-4941-9618-0759191b24fd",
   "metadata": {},
   "source": [
    "Ans: The @abstractmethod decorator in Python is used in conjunction with the ABC (Abstract Base Class) module to declare abstract methods in abstract classes. An abstract method is a method declared in an abstract class that has no implementation in the abstract class itself. Instead, concrete (non-abstract) subclasses must provide their own implementations of these abstract methods. This mechanism helps enforce a common interface among related classes, facilitating polymorphism."
   ]
  },
  {
   "cell_type": "code",
   "execution_count": 72,
   "id": "a16c3fb1-3943-41e7-9d78-efedb4900e8b",
   "metadata": {},
   "outputs": [],
   "source": [
    "# Example\n",
    "from abc import ABC, abstractmethod\n",
    "class cls1(ABC):\n",
    "    @abstractmethod\n",
    "    def complasry(self):\n",
    "        pass\n",
    "\n",
    "class cls2(cls1):\n",
    "    def complasry(self):\n",
    "        pass\n",
    "\n",
    "obj = cls2()\n"
   ]
  },
  {
   "cell_type": "code",
   "execution_count": null,
   "id": "3dbced48-fe11-4d8b-bd75-464e95e90e27",
   "metadata": {},
   "outputs": [],
   "source": [
    "# 11. Create a Python class called `Shape` with a polymorphic method `area()` that calculates the area of different shapes (e.g., circle, rectangle, triangle)."
   ]
  },
  {
   "cell_type": "code",
   "execution_count": 77,
   "id": "77b9e186-c272-4c5d-a063-b7d6e0ae7da7",
   "metadata": {},
   "outputs": [
    {
     "name": "stdout",
     "output_type": "stream",
     "text": [
      "Shape circle - Area: 50.27\n",
      "Shape rectangle - Area: 20.00\n",
      "Shape triangle - Area: 6.00\n"
     ]
    }
   ],
   "source": [
    "import math\n",
    "from abc import ABC, abstractmethod\n",
    "class shape(ABC):\n",
    "    @abstractmethod\n",
    "    def calculate_area(self):\n",
    "        pass\n",
    "\n",
    "class circle(shape):\n",
    "    def __init__(self, radius):\n",
    "        self.radius = radius\n",
    "        \n",
    "    def calculate_area(self):\n",
    "        return math.pi * self.radius ** 2\n",
    "\n",
    "class rectangle(shape):\n",
    "    def __init__(self, height, width):\n",
    "        self.height = height\n",
    "        self.width = width\n",
    "    def calculate_area(self):\n",
    "        return self.height * self.width\n",
    "\n",
    "class triangle(shape):\n",
    "    def __init__(self, base, length):\n",
    "        self.base = base\n",
    "        self.length = length\n",
    "\n",
    "    def calculate_area(self):\n",
    "        return 0.5 * self.length * self.base\n",
    "\n",
    "shapes = [circle(4), rectangle(4,5), triangle(2,6)]\n",
    "for shape in shapes:\n",
    "    print(f\"Shape {type(shape).__name__} - Area: {shape.calculate_area():.2f}\")"
   ]
  },
  {
   "cell_type": "code",
   "execution_count": null,
   "id": "65c39875-dfd6-455e-b2a8-012246aefdfe",
   "metadata": {},
   "outputs": [],
   "source": [
    "# 12. Discuss the benefits of polymorphism in terms of code reusability and flexibility in Python programs."
   ]
  },
  {
   "cell_type": "markdown",
   "id": "c618fec1-0839-462e-8cf3-fab40511c6d0",
   "metadata": {},
   "source": [
    "Ans: Polymorphism in Python offers several benefits in terms of code reusability and flexibility, making it a powerful feature of object-oriented programming. Here are some key advantages:\n",
    "\n",
    "Code Reusability:\n",
    "Interface Standardization: Polymorphism allows the creation of a common interface through abstract classes or interfaces. Subclasses can implement this interface, ensuring a consistent set of methods. This standardization promotes code reusability as objects of different classes can be treated uniformly through the common interface.\n",
    "\n",
    "Promotes Composition:\n",
    "By designing classes to adhere to a common interface, it becomes easier to compose complex systems by combining objects of different types. This composability enhances code reusability, as existing classes can be reused in various combinations to build new functionalities.\n",
    "\n",
    "Dynamic Binding: \n",
    "Polymorphism provides dynamic method resolution at runtime. This means that the appropriate method is determined based on the actual type of the object, allowing for flexibility in method invocation. This dynamic binding promotes adaptability and extensibility."
   ]
  },
  {
   "cell_type": "code",
   "execution_count": null,
   "id": "26022c2c-ea47-47af-bb4a-a9c54d6f266f",
   "metadata": {},
   "outputs": [],
   "source": [
    "# 13. Explain the use of the `super()` function in Python polymorphism. How does it help call methods of parent classes?"
   ]
  },
  {
   "cell_type": "markdown",
   "id": "73eac4b5-c1cc-43a3-aebb-0f468d974d96",
   "metadata": {},
   "source": [
    "Ans: super() function is used to call methods and access attributes of a parent or superclass within a subclass. It plays a crucial role in achieving polymorphism and supporting inheritance by allowing a subclass to extend or override methods of its superclass while still maintaining a connection to the functionality of the parent class."
   ]
  },
  {
   "cell_type": "code",
   "execution_count": 91,
   "id": "67e73c1b-ce72-4a47-9669-b0c43b866e99",
   "metadata": {},
   "outputs": [
    {
     "name": "stdout",
     "output_type": "stream",
     "text": [
      "Car has 4 Wheels\n",
      "Again: Car has 4 wheels\n"
     ]
    }
   ],
   "source": [
    "# example\n",
    "class vehicles:\n",
    "    def wheels(self):\n",
    "        print(\"Car has 4 Wheels\")\n",
    "\n",
    "class car(vehicles):\n",
    "    def wheels(self):\n",
    "        super().wheels()\n",
    "        print(\"Again: Car has 4 wheels\")\n",
    "\n",
    "veh = car()\n",
    "veh.wheels()"
   ]
  },
  {
   "cell_type": "code",
   "execution_count": null,
   "id": "498aefd6-5c06-4451-881b-115f2d800b2f",
   "metadata": {},
   "outputs": [],
   "source": [
    "# 14. Create a Python class hierarchy for a banking system with various account types (e.g., savings, checking, credit card) and demonstrate polymorphism by implementing a common `withdraw()` method."
   ]
  },
  {
   "cell_type": "code",
   "execution_count": 102,
   "id": "409fda3c-064c-4889-a71e-773736cd8d6a",
   "metadata": {},
   "outputs": [
    {
     "name": "stdout",
     "output_type": "stream",
     "text": [
      "saving: 5 has been withdrawed successfully avl balance: 5\n",
      "checking: 5 has been withdrawed successfully avl balance: 95\n",
      "credit_card: 5 has been deducted now available limit: 45\n"
     ]
    }
   ],
   "source": [
    "class bank_account:\n",
    "    def withdraw(self):\n",
    "        pass\n",
    "\n",
    "class saving(bank_account):\n",
    "    def __init__(self, balance=10):\n",
    "        self.balance = balance\n",
    "\n",
    "    def withdraw(self, amount):\n",
    "        if  amount <= self.balance:\n",
    "            self.balance -=amount\n",
    "            return f\"{amount} has been withdrawed successfully avl balance: {self.balance}\"\n",
    "        else:\n",
    "            return \"insufficinet balance\"\n",
    "\n",
    "class checking(bank_account):\n",
    "    def __init__(self, balance=100):\n",
    "        self.balance = balance\n",
    "\n",
    "    def withdraw(self, amount):\n",
    "        if  amount <= self.balance:\n",
    "            self.balance -=amount\n",
    "            return f\"{amount} has been withdrawed successfully avl balance: {self.balance}\"\n",
    "        else:\n",
    "            return \"insufficinet balance\"\n",
    "\n",
    "class credit_card(bank_account):\n",
    "    def __init__(self, limit=50):\n",
    "        self.limit = limit\n",
    "\n",
    "    def withdraw(self, amount):\n",
    "        if  amount <= self.limit:\n",
    "            self.limit -=amount\n",
    "            return f\"{amount} has been deducted now available limit: {self.limit}\"\n",
    "        else:\n",
    "            return \"insufficinet balance\"\n",
    "\n",
    "accounts = [saving() ,checking() ,credit_card()]\n",
    "for account in accounts:\n",
    "    print(f\"{type(account).__name__}: {account.withdraw(5)}\")"
   ]
  },
  {
   "cell_type": "code",
   "execution_count": null,
   "id": "3905fe9c-2654-42d2-bc17-a07c98805cd8",
   "metadata": {},
   "outputs": [],
   "source": [
    "# 15. Describe the concept of operator overloading in Python and how it relates to polymorphism. Provide examples using operators like `+` and `*`."
   ]
  },
  {
   "cell_type": "markdown",
   "id": "29b4b45b-a815-43ca-92ba-27f4634853ad",
   "metadata": {},
   "source": [
    "Ans: Operator overloading in Python allows a class to define the behavior of operators for its instances. Essentially, it enables you to define how operators work for objects of a particular class. This feature is part of Python's object-oriented programming paradigm.\n"
   ]
  },
  {
   "cell_type": "code",
   "execution_count": 1,
   "id": "1c7e1b6d-8ae5-45b2-a487-af3f7d4a5ed0",
   "metadata": {},
   "outputs": [
    {
     "name": "stdout",
     "output_type": "stream",
     "text": [
      "Addition: Vector(4, 6)\n",
      "Scalar Multiplication: Vector(3, 6)\n"
     ]
    }
   ],
   "source": [
    "# example\n",
    "class Vector:\n",
    "    def __init__(self, x, y):\n",
    "        self.x = x\n",
    "        self.y = y\n",
    "\n",
    "    # Overloading the '+' operator\n",
    "    def __add__(self, other):\n",
    "        return Vector(self.x + other.x, self.y + other.y)\n",
    "\n",
    "    # Overloading the '*' operator (scalar multiplication)\n",
    "    def __mul__(self, scalar):\n",
    "        return Vector(self.x * scalar, self.y * scalar)\n",
    "\n",
    "    # String representation of the vector\n",
    "    def __str__(self):\n",
    "        return f\"Vector({self.x}, {self.y})\"\n",
    "\n",
    "\n",
    "v1 = Vector(1, 2)\n",
    "v2 = Vector(3, 4)\n",
    "\n",
    "result_addition = v1 + v2\n",
    "print(f\"Addition: {result_addition}\")\n",
    "\n",
    "# Operator overloading for scalar multiplication\n",
    "result_scalar_multiply = v1 * 3\n",
    "print(f\"Scalar Multiplication: {result_scalar_multiply}\")\n"
   ]
  },
  {
   "cell_type": "code",
   "execution_count": null,
   "id": "a74d2d05-21ab-442d-a1c0-e6d7d4018960",
   "metadata": {},
   "outputs": [],
   "source": [
    "# 16. What is dynamic polymorphism, and how is it achieved in Python?"
   ]
  },
  {
   "cell_type": "markdown",
   "id": "0368723a-03c6-411e-bb42-4577357257f9",
   "metadata": {},
   "source": [
    "Ans: Dynamic polymorphism refers to the ability of a system to decide, at runtime, which implementation of a method or operation to invoke based on the actual type or properties of the objects involved. This is also known as late binding or runtime polymorphism."
   ]
  },
  {
   "cell_type": "code",
   "execution_count": 2,
   "id": "5f99ac63-fa28-4ebd-9e2a-509946e3ba84",
   "metadata": {},
   "outputs": [
    {
     "name": "stdout",
     "output_type": "stream",
     "text": [
      "Woof!\n",
      "Meow!\n"
     ]
    }
   ],
   "source": [
    "# Example:\n",
    "class Animal:\n",
    "    def speak(self):\n",
    "        pass\n",
    "\n",
    "class Dog(Animal):\n",
    "    def speak(self):\n",
    "        return \"Woof!\"\n",
    "\n",
    "class Cat(Animal):\n",
    "    def speak(self):\n",
    "        return \"Meow!\"\n",
    "\n",
    "# Function demonstrating dynamic polymorphism\n",
    "def animal_sound(animal_obj):\n",
    "    return animal_obj.speak()\n",
    "\n",
    "# Create instances of Dog and Cat\n",
    "dog_instance = Dog()\n",
    "cat_instance = Cat()\n",
    "\n",
    "# Demonstrate dynamic polymorphism\n",
    "print(animal_sound(dog_instance))  # Output: Woof!\n",
    "print(animal_sound(cat_instance))  # Output: Meow!\n"
   ]
  },
  {
   "cell_type": "code",
   "execution_count": null,
   "id": "0a3fb248-99ff-4a3c-849f-0082d05e8b54",
   "metadata": {},
   "outputs": [],
   "source": [
    "# 17. Create a Python class hierarchy for employees in a company (e.g., manager, developer, designer) and implement polymorphism through a common `calculate_salary()` method."
   ]
  },
  {
   "cell_type": "code",
   "execution_count": 4,
   "id": "e5f4f801-8526-477b-b81d-6a004955110b",
   "metadata": {},
   "outputs": [
    {
     "name": "stdout",
     "output_type": "stream",
     "text": [
      "manager - 2400000\n",
      "developer - 1200000\n",
      "designer - 6000000\n"
     ]
    }
   ],
   "source": [
    "class employees:\n",
    "    def calculate_salary():\n",
    "        pass\n",
    "\n",
    "class manager(employees):\n",
    "    def __init__(self, manager_salary):\n",
    "        self.manager_salary = manager_salary\n",
    "\n",
    "    def calculate_salary(self):\n",
    "        return self.manager_salary * 12 #12 stand for month mean annual salary\n",
    "\n",
    "class developer(employees):\n",
    "    def __init__(self, developer_salary):\n",
    "        self.developer_salary = developer_salary\n",
    "\n",
    "    def calculate_salary(self):\n",
    "        return self.developer_salary * 12 #12 stand for month mean annual salary\n",
    "\n",
    "class designer(employees):\n",
    "    def __init__(self, designer_salary):\n",
    "        self.designer_salary = designer_salary\n",
    "\n",
    "    def calculate_salary(self):\n",
    "        return self.designer_salary * 12 #12 stand for month mean annual salary\n",
    "\n",
    "employees = [manager(200000), developer(100000), designer(500000)]\n",
    "\n",
    "for employee in employees:\n",
    "    print(f\"{type(employee).__name__} - {employee.calculate_salary()}\")"
   ]
  },
  {
   "cell_type": "code",
   "execution_count": null,
   "id": "b44eeb0e-23fc-4ea0-89b1-83d774ad94e2",
   "metadata": {},
   "outputs": [],
   "source": [
    "# 18. Discuss the concept of function pointers and how they can be used to achieve polymorphism in Python."
   ]
  },
  {
   "cell_type": "markdown",
   "id": "4b219390-cd89-40fc-9ef0-f5ecd1cc4097",
   "metadata": {},
   "source": [
    "Ans: the concept of function pointers is somewhat different from languages that have explicit pointers and function pointers, like C or C++. However, Python supports a form of polymorphism that is similar in spirit, called \"duck typing\" or \"dynamic typing.\" It achieves polymorphism without explicit function pointers or type declarations."
   ]
  },
  {
   "cell_type": "code",
   "execution_count": 5,
   "id": "85ebb8ea-db67-4815-8832-dbe17caf9183",
   "metadata": {},
   "outputs": [
    {
     "name": "stdout",
     "output_type": "stream",
     "text": [
      "Woof!\n",
      "Meow!\n"
     ]
    }
   ],
   "source": [
    "# Example:\n",
    "\n",
    "class Dog:\n",
    "    def speak(self):\n",
    "        return \"Woof!\"\n",
    "\n",
    "class Cat:\n",
    "    def speak(self):\n",
    "        return \"Meow!\"\n",
    "\n",
    "def animal_sound(animal):\n",
    "    return animal.speak()\n",
    "\n",
    "# Create instances of Dog and Cat\n",
    "dog_instance = Dog()\n",
    "cat_instance = Cat()\n",
    "\n",
    "# Demonstrate polymorphism\n",
    "print(animal_sound(dog_instance))  # Output: Woof!\n",
    "print(animal_sound(cat_instance))  # Output: Meow!\n"
   ]
  },
  {
   "cell_type": "code",
   "execution_count": null,
   "id": "9adab813-101b-4f2b-b38e-9ce44665c168",
   "metadata": {},
   "outputs": [],
   "source": [
    "# 19. Explain the role of interfaces and abstract classes in polymorphism, drawing comparisons between them."
   ]
  },
  {
   "cell_type": "markdown",
   "id": "e386fdd5-bc08-441b-83ae-e12c3a305299",
   "metadata": {},
   "source": [
    "Ans: Both interfaces and abstract classes play crucial roles in achieving polymorphism in object-oriented programming. They provide a way to define a common interface for multiple classes, allowing them to be treated interchangeably. However, there are key differences between interfaces and abstract classes.\n",
    "\n",
    "Abstract Classes:\n",
    "Abstract methods are methods declared in the abstract class but without a specific implementation. Subclasses are required to provide concrete implementations for these methods.\n",
    "\n",
    "Interfaces:\n",
    "An interface is a collection of method signatures without any implementation. In some languages like Java, a class can implement multiple interfaces.\n",
    "\n",
    "Interfaces only declare method signatures without providing any implementation details. Concrete classes that implement interfaces must provide their own implementation."
   ]
  },
  {
   "cell_type": "code",
   "execution_count": null,
   "id": "4fde3299-f1f5-453b-87d6-18e18c3f3510",
   "metadata": {},
   "outputs": [],
   "source": [
    "# 20. Create a Python class for a zoo simulation, demonstrating polymorphism with different animal types (e.g., mammals, birds, reptiles) and their behavior (e.g., eating, sleeping, making sounds)."
   ]
  },
  {
   "cell_type": "code",
   "execution_count": 10,
   "id": "4b50030c-4e22-436c-b153-e69702961155",
   "metadata": {},
   "outputs": [
    {
     "name": "stdout",
     "output_type": "stream",
     "text": [
      "\n",
      "        Lion - Mammals are Eating\n",
      "        Lion - Mammals are sleeping\n",
      "        Lion - Mammals are sounding\n",
      "        \n",
      "\n",
      "        Parrot - Birds are Eating\n",
      "        Parrot - Birds are sleeping\n",
      "        Parrot - Birds are sounding\n",
      "        \n",
      "\n",
      "        Snake - Reptiles are Eating\n",
      "        Snake - Reptiles are sleeping\n",
      "        Snake - Reptiles are sounding\n",
      "        \n"
     ]
    }
   ],
   "source": [
    "class Animal:\n",
    "    def __init__(self, name):\n",
    "        self.name = name\n",
    "\n",
    "    def animal_eating(self):\n",
    "        pass\n",
    "\n",
    "    def animal_sleeping(self):\n",
    "        pass\n",
    "\n",
    "    def animal_sound(self):\n",
    "        pass\n",
    "\n",
    "class Mammal(Animal):\n",
    "    def animal_eating(self):\n",
    "        return \"Mammals are Eating\"\n",
    "\n",
    "    def animal_sleeping(self):\n",
    "        return \"Mammals are sleeping\"\n",
    "\n",
    "    def animal_sound(self):\n",
    "        return \"Mammals are sounding\"\n",
    "\n",
    "class Bird(Animal):\n",
    "    def animal_eating(self):\n",
    "        return \"Birds are Eating\"\n",
    "\n",
    "    def animal_sleeping(self):\n",
    "        return \"Birds are sleeping\"\n",
    "\n",
    "    def animal_sound(self):\n",
    "        return \"Birds are sounding\"\n",
    "\n",
    "class Reptile(Animal):\n",
    "    def animal_eating(self):\n",
    "        return \"Reptiles are Eating\"\n",
    "\n",
    "    def animal_sleeping(self):\n",
    "        return \"Reptiles are sleeping\"\n",
    "\n",
    "    def animal_sound(self):\n",
    "        return \"Reptiles are sounding\"\n",
    "\n",
    "def simulate_zoo(animals):\n",
    "    for animal in animals:\n",
    "        print(f\"\"\"\n",
    "        {animal.name} - {animal.animal_eating()}\n",
    "        {animal.name} - {animal.animal_sleeping()}\n",
    "        {animal.name} - {animal.animal_sound()}\n",
    "        \"\"\")\n",
    "\n",
    "lion = Mammal(\"Lion\")\n",
    "parrot = Bird(\"Parrot\")\n",
    "snake = Reptile(\"Snake\")\n",
    "\n",
    "# Simulate the zoo with polymorphism\n",
    "zoo_animals = [lion, parrot, snake]\n",
    "simulate_zoo(zoo_animals)\n"
   ]
  },
  {
   "cell_type": "code",
   "execution_count": null,
   "id": "10549ad3-ad36-4ee7-838c-d85d9ff6fab1",
   "metadata": {},
   "outputs": [],
   "source": [
    "# Abstraction:"
   ]
  },
  {
   "cell_type": "code",
   "execution_count": null,
   "id": "123a6921-43cc-487f-8369-79c7a4913a73",
   "metadata": {},
   "outputs": [],
   "source": [
    "# 1. What is abstraction in Python, and how does it relate to object-oriented programming?"
   ]
  },
  {
   "cell_type": "markdown",
   "id": "4c3e5e51-23b4-4b21-97fa-576e4beeebe4",
   "metadata": {},
   "source": [
    "Ans: abstraction is a fundamental concept in object-oriented programming (OOP) that involves simplifying complex systems by modeling classes based on the essential properties and behaviors relevant to the problem at hand while hiding unnecessary details.\n",
    "\n",
    "classes are used to implement abstraction. A class is a blueprint that defines the structure and behavior of objects. It encapsulates data (attributes) and methods (functions) that operate on that data."
   ]
  },
  {
   "cell_type": "code",
   "execution_count": null,
   "id": "958b4e5e-7e0c-4c5f-9a77-b3047f60515e",
   "metadata": {},
   "outputs": [],
   "source": [
    "# 2. Describe the benefits of abstraction in terms of code organization and complexity reduction."
   ]
  },
  {
   "cell_type": "markdown",
   "id": "30388e3c-de7c-4e0a-8c6a-87e705f1ad87",
   "metadata": {},
   "source": [
    "Ans: Abstraction in programming, especially in the context of object-oriented programming (OOP), offers several benefits that contribute to improved code organization and reduced complexity. Here are some key advantages:\n",
    "\n",
    "Simplified Interface:\n",
    "Abstraction allows developers to define a simplified and consistent interface for interacting with complex systems. Users of a class or module only need to understand and use the essential methods and attributes, leading to a more straightforward and user-friendly API.\n",
    "\n",
    "Reduced Complexity:\n",
    "Abstraction helps manage complexity by hiding unnecessary details and exposing only what is essential. This reduces cognitive load for developers working with the code, making it easier to understand, maintain, and extend."
   ]
  },
  {
   "cell_type": "code",
   "execution_count": null,
   "id": "e6b65018-8987-4b61-bd73-f0be3c3c808d",
   "metadata": {},
   "outputs": [],
   "source": [
    "# 3. Create a Python class called `Shape` with an abstract method `calculate_area()`. Then, create child classes (e.g., `Circle`, `Rectangle`) that implement the `calculate_area()` method. Provide an example of using these classes."
   ]
  },
  {
   "cell_type": "code",
   "execution_count": 13,
   "id": "438fcf74-9a64-477f-80a3-ca557d4b0e58",
   "metadata": {},
   "outputs": [
    {
     "name": "stdout",
     "output_type": "stream",
     "text": [
      "\n",
      "Circle: 50.24\n",
      "rectangle: 12\n",
      "\n"
     ]
    }
   ],
   "source": [
    "from abc import ABC, abstractmethod\n",
    "class shape(ABC):\n",
    "    @abstractmethod\n",
    "    def calculate_area(self):\n",
    "        pass\n",
    "\n",
    "class circle(shape):\n",
    "    def __init__(self, radius):\n",
    "        self.radius = radius\n",
    "\n",
    "    def calculate_area(self):\n",
    "        return 3.14 * self.radius ** 2\n",
    "\n",
    "class rectangle(shape):\n",
    "    def __init__(self, width, height):\n",
    "        self.width = width\n",
    "        self.height = height\n",
    "    def calculate_area(self):\n",
    "        return self.width * self.height\n",
    "\n",
    "circle = circle(4)\n",
    "rectangle = rectangle(3,4)\n",
    "print(f\"\"\"\n",
    "Circle: {circle.calculate_area()}\n",
    "rectangle: {rectangle.calculate_area()}\n",
    "\"\"\")"
   ]
  },
  {
   "cell_type": "code",
   "execution_count": null,
   "id": "0d42af3a-81b6-444b-a627-6fbc3a306baf",
   "metadata": {},
   "outputs": [],
   "source": [
    "# 4. Explain the concept of abstract classes in Python and how they are defined using the `abc` module. Provide an example."
   ]
  },
  {
   "cell_type": "markdown",
   "id": "4e26538c-bb16-4ad7-961f-86a508d50778",
   "metadata": {},
   "source": [
    "Ans: abstract classes are classes that cannot be instantiated and may contain abstract methods. Abstract methods are declared in the abstract class but have no implementation. Subclasses of the abstract class are required to provide concrete implementations for these abstract methods. Abstract classes are used to define a common interface for a group of related classes, ensuring that they share a common set of methods.\n",
    "\n",
    "The abc module (Abstract Base Classes) in Python provides the tools to define abstract classes and abstract methods. The ABC (Abstract Base Class) and abstractmethod decorators from the abc module are used to create abstract classes and abstract methods, respectively."
   ]
  },
  {
   "cell_type": "code",
   "execution_count": 14,
   "id": "063d729a-cee9-4cd9-a56e-61f39a4375f2",
   "metadata": {},
   "outputs": [
    {
     "name": "stdout",
     "output_type": "stream",
     "text": [
      "Area of the Circle with radius 5: 78.5\n",
      "Area of the Rectangle with length 4 and width 6: 24\n"
     ]
    }
   ],
   "source": [
    "# Example:\n",
    "\n",
    "from abc import ABC, abstractmethod\n",
    "\n",
    "class Shape(ABC):\n",
    "    @abstractmethod\n",
    "    def calculate_area(self):\n",
    "        pass\n",
    "\n",
    "class Circle(Shape):\n",
    "    def __init__(self, radius):\n",
    "        self.radius = radius\n",
    "\n",
    "    def calculate_area(self):\n",
    "        return 3.14 * self.radius ** 2\n",
    "\n",
    "class Rectangle(Shape):\n",
    "    def __init__(self, length, width):\n",
    "        self.length = length\n",
    "        self.width = width\n",
    "\n",
    "    def calculate_area(self):\n",
    "        return self.length * self.width\n",
    "\n",
    "# Uncommenting the following lines would result in an error, as Shape is an abstract class.\n",
    "# shape = Shape()\n",
    "\n",
    "# Create instances of concrete subclasses\n",
    "circle = Circle(radius=5)\n",
    "rectangle = Rectangle(length=4, width=6)\n",
    "\n",
    "# Use the concrete subclasses\n",
    "print(f\"Area of the Circle with radius {circle.radius}: {circle.calculate_area()}\")\n",
    "print(f\"Area of the Rectangle with length {rectangle.length} and width {rectangle.width}: {rectangle.calculate_area()}\")\n"
   ]
  },
  {
   "cell_type": "code",
   "execution_count": null,
   "id": "9ee44fee-dd2f-48f7-8845-2a18e66ac252",
   "metadata": {},
   "outputs": [],
   "source": [
    "# 5. How do abstract classes differ from regular classes in Python? Discuss their use cases."
   ]
  },
  {
   "cell_type": "markdown",
   "id": "fae2b49d-4d19-4900-ad73-20dd5d5af20b",
   "metadata": {},
   "source": [
    "Ans: Abstract classes in Python differ from regular classes in that they cannot be instantiated directly, and they may contain abstract methods—methods without an implementation. Abstract classes are meant to be subclassed, and their abstract methods must be implemented by the subclasses. Here are the key differences and use cases for abstract classes:\n",
    "\n",
    "Instantiation:\n",
    "Abstract classes cannot be instantiated directly. Attempting to create an instance of an abstract class will result in an error.\n",
    "\n",
    "Regular Classes:\n",
    "Regular classes can be instantiated directly. You can create objects of a regular class without any restrictions.\n",
    "\n",
    "uses case:\n",
    "Use Cases for Abstract Classes:\n",
    "Creating a base class that defines a common interface for multiple related classes.\r\n",
    "Ensuring that specific methods must be implemented by all subclasses.\r\n",
    "Promoting code consistency and providing a clear structure for a group of related classe\n",
    "\n",
    "Use Cases for Regular Classes:\n",
    "Creating standalone, directly instantiable classes.\r\n",
    "Implementing classes where not all methods need to be defined in all subclasses.\r\n",
    "When you don't need to enforce a common interface for a group of classes.s."
   ]
  },
  {
   "cell_type": "code",
   "execution_count": null,
   "id": "bb4bafa9-859a-4727-8bb0-d30ae1981b59",
   "metadata": {},
   "outputs": [],
   "source": [
    "# 6. Create a Python class for a bank account and demonstrate abstraction by hiding the account balance and providing methods to deposit and withdraw funds."
   ]
  },
  {
   "cell_type": "code",
   "execution_count": 19,
   "id": "e0a2ae02-8bdd-443e-aec5-5cb259ecb285",
   "metadata": {},
   "outputs": [
    {
     "data": {
      "text/plain": [
       "'100 has been credited to your account avl balance 150'"
      ]
     },
     "execution_count": 19,
     "metadata": {},
     "output_type": "execute_result"
    }
   ],
   "source": [
    "from abc import ABC, abstractmethod\n",
    "class bank_account(ABC):\n",
    "    def __init__(self, account_balance):\n",
    "        self.__account_balance\n",
    "    @abstractmethod\n",
    "    def deposit(self, amount):\n",
    "        pass\n",
    "    @abstractmethod\n",
    "    def withdraw(self,amount):\n",
    "        pass\n",
    "\n",
    "class saving_ac(bank_account):\n",
    "    def __init__(self, balance=0):\n",
    "        self.balance = balance\n",
    "\n",
    "    def withdraw(self, amount):\n",
    "        if amount <= self.balance:\n",
    "            self.balance -= amount\n",
    "            return f\"{amount} has been withdrawn current balance is {self.balance}\"\n",
    "        else:\n",
    "            return \"Insufficient Balance\"\n",
    "\n",
    "    def deposit(self, amount):\n",
    "        if amount > 0:\n",
    "            self.balance += amount\n",
    "            return f\"{amount} has been credited to your account avl balance {self.balance}\"\n",
    "\n",
    "saving_account = saving_ac(100)\n",
    "# withraw money\n",
    "saving_account.withdraw(50)\n",
    "saving_account.deposit(100)"
   ]
  },
  {
   "cell_type": "code",
   "execution_count": null,
   "id": "82443520-2dcb-406f-b530-79110d71991a",
   "metadata": {},
   "outputs": [],
   "source": [
    "# 7. Discuss the concept of interface classes in Python and their role in achieving abstraction."
   ]
  },
  {
   "cell_type": "markdown",
   "id": "83af41fd-fa4f-456a-850b-d227986a61ef",
   "metadata": {},
   "source": [
    "Ans: interface classes are classes that define a set of method signatures (declarations) without providing any implementation. These methods represent a contract that concrete classes must adhere to when they implement the interface. While Python doesn't have a native interface keyword, the concept of interfaces is achieved through abstract classes with abstract methods or, more explicitly, through the ABC (Abstract Base Classes) module.\n",
    "\n",
    "Abstract classes in Python, created using the ABC module, serve as interfaces. An abstract class may contain abstract methods, which are declared without providing an implementation."
   ]
  },
  {
   "cell_type": "code",
   "execution_count": 20,
   "id": "9a616600-3ff5-4432-8ca2-d14fb194a8fd",
   "metadata": {},
   "outputs": [],
   "source": [
    "# Example:\n",
    "from abc import ABC, abstractmethod\n",
    "\n",
    "class MyInterface(ABC):\n",
    "    @abstractmethod\n",
    "    def method1(self):\n",
    "        pass\n",
    "\n",
    "    @abstractmethod\n",
    "    def method2(self):\n",
    "        pass\n"
   ]
  },
  {
   "cell_type": "code",
   "execution_count": null,
   "id": "3ecfbe82-d9d3-450e-b624-6b7fdd116818",
   "metadata": {},
   "outputs": [],
   "source": [
    "# 8. Create a Python class hierarchy for animals and implement abstraction by defining common methods (e.g., `eat()`, `sleep()`) in an abstract base class."
   ]
  },
  {
   "cell_type": "code",
   "execution_count": 23,
   "id": "a685f4d1-76ac-4402-b012-8ce2bf5a52e0",
   "metadata": {},
   "outputs": [
    {
     "name": "stdout",
     "output_type": "stream",
     "text": [
      "\n",
      "Lion is eating and Lion is sleeping\n",
      "Parrot is eating and Parrot is sleeping\n",
      "\n"
     ]
    }
   ],
   "source": [
    "from abc import ABC, abstractmethod\n",
    "class animals(ABC):\n",
    "    def __init__(self, name):\n",
    "        self.name = name\n",
    "\n",
    "    @abstractmethod\n",
    "    def eat(self):\n",
    "        pass\n",
    "\n",
    "    @abstractmethod\n",
    "    def sleep(self):\n",
    "        pass\n",
    "\n",
    "class mammals(animals):\n",
    "    def __init__(self, name):\n",
    "        super().__init__(name)\n",
    "\n",
    "    def eat(self):\n",
    "        return f\"{self.name} is eating\"\n",
    "\n",
    "    def sleep(self):\n",
    "        return f\"{self.name} is sleeping\"\n",
    "\n",
    "class birds(animals):\n",
    "    def __init__(self, name):\n",
    "        super().__init__(name)\n",
    "\n",
    "    def eat(self):\n",
    "        return f\"{self.name} is eating\"\n",
    "\n",
    "    def sleep(self):\n",
    "        return f\"{self.name} is sleeping\"\n",
    "\n",
    "lion = mammals(\"Lion\")\n",
    "parrot = birds(\"Parrot\")\n",
    "\n",
    "print(f\"\"\"\n",
    "{lion.eat()} and {lion.sleep()}\n",
    "{parrot.eat()} and {parrot.sleep()}\n",
    "\"\"\")"
   ]
  },
  {
   "cell_type": "code",
   "execution_count": null,
   "id": "24272333-8a01-409b-b31a-1af7bcd134ca",
   "metadata": {},
   "outputs": [],
   "source": [
    "# 9. Explain the significance of encapsulation in achieving abstraction. Provide examples."
   ]
  },
  {
   "cell_type": "markdown",
   "id": "79da5f47-4b5d-4f05-8384-34b73a575beb",
   "metadata": {},
   "source": [
    "Ans: Encapsulation and abstraction are closely related concepts in object-oriented programming, and encapsulation plays a significant role in achieving abstraction. Encapsulation involves bundling the data (attributes) and the methods (functions) that operate on the data into a single unit, known as a class. It helps hide the internal details of the class from the outside world and allows controlled access to the class's functionalities. Abstraction, on the other hand, involves simplifying complex systems by modeling classes based on their essential properties and behaviors."
   ]
  },
  {
   "cell_type": "code",
   "execution_count": 24,
   "id": "c0264373-f472-41e5-b0a0-62f23bd170c0",
   "metadata": {},
   "outputs": [
    {
     "name": "stdout",
     "output_type": "stream",
     "text": [
      "Password Changed\n"
     ]
    }
   ],
   "source": [
    "# Example:\n",
    "from abc import ABC, abstractmethod\n",
    "class user_info(ABC):\n",
    "    def __init__(self, user_pass, user_phone):\n",
    "        self.__user_pass = user_pass\n",
    "        self.__user_phone = user_phone\n",
    "\n",
    "    @abstractmethod\n",
    "    def change_pass(self):\n",
    "        pass\n",
    "\n",
    "class user_1(user_info):\n",
    "    def __init__(self, user_pass, user_phone):\n",
    "        super().__init__(user_pass, user_phone)\n",
    "\n",
    "    def change_pass(self):\n",
    "        self.__user_pass = \"fij#$NHRNBF@!DB\"\n",
    "        return \"Password Changed\"\n",
    "\n",
    "user_details = user_1(\"user123\", 798996565)\n",
    "print(user_details.change_pass())"
   ]
  },
  {
   "cell_type": "code",
   "execution_count": null,
   "id": "4bb4eb9e-58f9-4593-a5fa-961eb19e7c5a",
   "metadata": {},
   "outputs": [],
   "source": [
    "# 10. What is the purpose of abstract methods, and how do they enforce abstraction in Python classes?"
   ]
  },
  {
   "cell_type": "markdown",
   "id": "3cdcb177-8062-4777-8058-3e0fe1aec361",
   "metadata": {},
   "source": [
    "Ans: Abstract methods in Python serve the purpose of defining method signatures (declarations) in an abstract base class (ABC) without providing an implementation. These methods act as placeholders that must be implemented by concrete subclasses. The primary goals and purposes of abstract methods are as follows:\n",
    "\n",
    "forcing Implementation in Subclasses:\n",
    "Abstract methods act as a mechanism for enforcing that concrete subclasses provide their own implementations for the required methods. If a concrete subclass fails to implement any abstract method, it will also be marked as abstract and cannot be instantiated."
   ]
  },
  {
   "cell_type": "code",
   "execution_count": null,
   "id": "f73ad0ae-99e1-4793-88b2-052d7f407e45",
   "metadata": {},
   "outputs": [],
   "source": [
    "# 11. Create a Python class for a vehicle system and demonstrate abstraction by defining common methods"
   ]
  },
  {
   "cell_type": "code",
   "execution_count": 25,
   "id": "1b0f9eee-13e1-4038-9538-34d186950fa1",
   "metadata": {},
   "outputs": [
    {
     "name": "stdout",
     "output_type": "stream",
     "text": [
      "\n",
      "Car is started and Car is stoped\n",
      "Motorbike is started and Motorbike is stoped\n",
      "\n"
     ]
    }
   ],
   "source": [
    "from abc import ABC, abstractmethod\n",
    "class vehicles(ABC):\n",
    "    def __init__(self, vehicle_name):\n",
    "        self.vehicle_name = vehicle_name\n",
    "\n",
    "    def start(self):\n",
    "        pass\n",
    "\n",
    "    def stop(self):\n",
    "        pass\n",
    "\n",
    "class bike(vehicles):\n",
    "    def __init__(self, vehicle_name):\n",
    "        super().__init__(vehicle_name)\n",
    "\n",
    "    def start(self):\n",
    "        return f\"{self.vehicle_name} is started\"\n",
    "\n",
    "    def stop(self):\n",
    "        return f\"{self.vehicle_name} is stoped\"\n",
    "\n",
    "class car(vehicles):\n",
    "    def __init__(self, vehicle_name):\n",
    "        super().__init__(vehicle_name)\n",
    "\n",
    "    def start(self):\n",
    "        return f\"{self.vehicle_name} is started\"\n",
    "\n",
    "    def stop(self):\n",
    "        return f\"{self.vehicle_name} is stoped\"\n",
    "\n",
    "bike = bike(\"Motorbike\")\n",
    "car = car(\"Car\")\n",
    "\n",
    "print(f\"\"\"\n",
    "{car.start()} and {car.stop()}\n",
    "{bike.start()} and {bike.stop()}\n",
    "\"\"\")"
   ]
  },
  {
   "cell_type": "code",
   "execution_count": null,
   "id": "0d650380-74ca-4aa7-822e-a6a56e95822f",
   "metadata": {},
   "outputs": [],
   "source": [
    "# 12. Describe the use of abstract properties in Python and how they can be employed in abstract classes."
   ]
  },
  {
   "cell_type": "markdown",
   "id": "2a888bd0-db67-4f5d-bbe0-b60c6640da70",
   "metadata": {},
   "source": [
    "Ans: Abstract properties in Python are a way to define abstract attributes in abstract base classes (ABCs). Similar to abstract methods, abstract properties are declared in the abstract base class without providing an implementation. Concrete subclasses must then provide their own implementations for these abstract properties. Abstract properties are declared using the @property decorator in combination with the @abstractmethod decorator."
   ]
  },
  {
   "cell_type": "code",
   "execution_count": 26,
   "id": "f532c563-c5d6-432f-81ac-aa11f8c1fc8c",
   "metadata": {},
   "outputs": [
    {
     "name": "stdout",
     "output_type": "stream",
     "text": [
      "Brand: Toyota\n",
      "Model: Camry\n",
      "Engine started.\n",
      "Engine stopped.\n"
     ]
    }
   ],
   "source": [
    "# example:\n",
    "from abc import ABC, abstractmethod, abstractproperty\n",
    "\n",
    "class Vehicle(ABC):\n",
    "    @abstractproperty\n",
    "    def brand(self):\n",
    "        pass\n",
    "\n",
    "    @abstractproperty\n",
    "    def model(self):\n",
    "        pass\n",
    "\n",
    "    @abstractmethod\n",
    "    def start(self):\n",
    "        pass\n",
    "\n",
    "    @abstractmethod\n",
    "    def stop(self):\n",
    "        pass\n",
    "\n",
    "class Car(Vehicle):\n",
    "    def __init__(self, brand, model):\n",
    "        self._brand = brand\n",
    "        self._model = model\n",
    "        self._engine_started = False\n",
    "\n",
    "    @property\n",
    "    def brand(self):\n",
    "        return self._brand\n",
    "\n",
    "    @property\n",
    "    def model(self):\n",
    "        return self._model\n",
    "\n",
    "    def start(self):\n",
    "        if not self._engine_started:\n",
    "            print(\"Engine started.\")\n",
    "            self._engine_started = True\n",
    "        else:\n",
    "            print(\"Engine is already running.\")\n",
    "\n",
    "    def stop(self):\n",
    "        if self._engine_started:\n",
    "            print(\"Engine stopped.\")\n",
    "            self._engine_started = False\n",
    "        else:\n",
    "            print(\"Engine is already off.\")\n",
    "\n",
    "# Usage\n",
    "my_car = Car(brand=\"Toyota\", model=\"Camry\")\n",
    "\n",
    "print(f\"Brand: {my_car.brand}\")  # Accessing abstract property\n",
    "print(f\"Model: {my_car.model}\")  # Accessing abstract property\n",
    "\n",
    "my_car.start()  # Concrete implementation of start method\n",
    "my_car.stop()   # Concrete implementation of stop method\n"
   ]
  },
  {
   "cell_type": "code",
   "execution_count": null,
   "id": "b386803d-1811-47a2-ad15-c8a212ed53aa",
   "metadata": {},
   "outputs": [],
   "source": [
    "# 13. Create a Python class hierarchy for employees in a company (e.g., manager, developer, designer) and implement abstraction by defining a common `get_salary()` method."
   ]
  },
  {
   "cell_type": "code",
   "execution_count": 30,
   "id": "9f51b03d-de4c-453f-abc5-0a1d485bcfe2",
   "metadata": {},
   "outputs": [
    {
     "name": "stdout",
     "output_type": "stream",
     "text": [
      "\n",
      "    manager = 1200000/P.A\n",
      "    \n",
      "\n",
      "    developer = 1200000/P.A\n",
      "    \n",
      "\n",
      "    designer = 600000/P.A\n",
      "    \n"
     ]
    }
   ],
   "source": [
    "from abc import ABC, abstractmethod\n",
    "class employee(ABC):\n",
    "    @abstractmethod\n",
    "    def get_salary(self):\n",
    "        pass\n",
    "\n",
    "class manager(employee):\n",
    "    def __init__(self, manager_salary):\n",
    "        self.manager_salary = manager_salary\n",
    "    def get_salary(self):\n",
    "        return self.manager_salary * 12 #for 12 month of salary\n",
    "\n",
    "class developer(employee):\n",
    "    def __init__(self, developer_salary):\n",
    "        self.developer_salary = developer_salary\n",
    "    def get_salary(self):\n",
    "        return self.developer_salary * 12 #for 12 month of salary\n",
    "\n",
    "class designer(employee):\n",
    "    def __init__(self, designer_salary):\n",
    "        self.designer_salary = designer_salary\n",
    "    def get_salary(self):\n",
    "        return self.designer_salary * 12 #for 12 month of salary\n",
    "\n",
    "employees = [manager(100000), developer(100000), designer(50000)]\n",
    "for employee in employees:\n",
    "    print(f\"\"\"\n",
    "    {type(employee).__name__} = {employee.get_salary()}/P.A\n",
    "    \"\"\")"
   ]
  },
  {
   "cell_type": "code",
   "execution_count": null,
   "id": "2a6d9b30-6be9-4321-a858-c9bfd7cb887c",
   "metadata": {},
   "outputs": [],
   "source": [
    "# 14. Discuss the differences between abstract classes and concrete classes in Python, including their instantiation."
   ]
  },
  {
   "cell_type": "markdown",
   "id": "3b8b5446-5a70-4bb8-92ef-3cfb19054ea5",
   "metadata": {},
   "source": [
    "Ans: Abstract classes and concrete classes are two distinct concepts in Python's object-oriented programming paradigm. Let's discuss the differences between them, focusing on their definitions, characteristics, and instantiation.\n",
    "\n",
    "Abstract Classes:-\n",
    "\n",
    "Abstract classes are classes that cannot be instantiated on their own. They often serve as a blueprint for other classes and may contain abstract methods or abstract properties.\n",
    "\n",
    "Abstract Classes Instantiation:\n",
    "Abstract classes cannot be instantiated directly. They are meant to be subclassed, and objects are created from their concrete subclasses.\n",
    "Abstract classes are created using the ABC (Abstract Base Class) module. Abstract methods are declared using the @abstractmethod decorator.\n",
    "\n",
    "Concrete Classes:-\n",
    "Concrete classes are classes that can be instantiated directly. They provide concrete implementations for all methods and properties declared in their class hierarchy.\n",
    "\n",
    "Concrete Classes Instantiation:\n",
    "Objects of concrete classes can be instantiated directly using the class constructor.\n",
    "A concrete class example might include a specific type of vehicle, such as a Car or Bicycle, which provides concrete implementations for all required methods."
   ]
  },
  {
   "cell_type": "code",
   "execution_count": null,
   "id": "7157f081-3778-41b8-8917-0ab5143602fa",
   "metadata": {},
   "outputs": [],
   "source": [
    "# 15. Explain the concept of abstract data types (ADTs) and their role in achieving abstraction in Python."
   ]
  },
  {
   "cell_type": "markdown",
   "id": "bdfb3161-8f4b-426a-8f40-0b8cc112f332",
   "metadata": {},
   "source": [
    "Ans: Abstract Data Types (ADTs) are a high-level description of a set of operations on a data structure without specifying the details of how these operations are implemented. ADTs focus on the behavior of data structures, providing a way to model and design data structures in a language-agnostic manner. The key concept is abstraction: separating the implementation details from the interface, allowing users to interact with data structures in a more conceptual way.\n",
    "\n",
    "ADTs encapsulate the details of how data is stored and manipulated. The internal workings are hidden from the user, promoting a clear separation between the interface and implementation."
   ]
  },
  {
   "cell_type": "code",
   "execution_count": null,
   "id": "19b15dff-1666-493e-ab8b-91c4db1be2af",
   "metadata": {},
   "outputs": [],
   "source": [
    "# 16. Create a Python class for a computer system, demonstrating abstraction by defining common methods (e.g., `power_on()`, `shutdown()`) in an abstract base class."
   ]
  },
  {
   "cell_type": "code",
   "execution_count": 32,
   "id": "2e12d19a-1525-43fc-8acf-c52d6e6a5de3",
   "metadata": {},
   "outputs": [
    {
     "name": "stdout",
     "output_type": "stream",
     "text": [
      "\n",
      "Smarphone is power on\n",
      "Smarphone is shut down\n",
      "\n"
     ]
    }
   ],
   "source": [
    "from abc import ABC, abstractmethod\n",
    "class computer_system(ABC):\n",
    "    def __init__(self, device_name):\n",
    "        self.device_name = device_name\n",
    "\n",
    "    @abstractmethod\n",
    "    def power_on(self):\n",
    "        pass\n",
    "\n",
    "    @abstractmethod\n",
    "    def shutdown(self):\n",
    "        pass\n",
    "\n",
    "class mobile(computer_system):\n",
    "    def __init__(self, device_name):\n",
    "        super().__init__(device_name)\n",
    "\n",
    "    def power_on(self):\n",
    "        return f\"{self.device_name} is power on\"\n",
    "\n",
    "    def shutdown(self):\n",
    "        return f\"{self.device_name} is shut down\"\n",
    "\n",
    "phone = mobile(\"Smarphone\")\n",
    "\n",
    "print(f\"\"\"\n",
    "{phone.power_on()}\n",
    "{phone.shutdown()}\n",
    "\"\"\")"
   ]
  },
  {
   "cell_type": "code",
   "execution_count": null,
   "id": "edb91ff1-d53a-4232-a407-2674aafbf3a8",
   "metadata": {},
   "outputs": [],
   "source": [
    "# 17. Discuss the benefits of using abstraction in large-scale software development projects."
   ]
  },
  {
   "cell_type": "markdown",
   "id": "cf9cc1cb-2863-4dab-ab1e-24e6ee44a1ff",
   "metadata": {},
   "source": [
    "Ans: Using abstraction in large-scale software development projects provides several benefits that contribute to the design, development, and maintenance of complex systems. Here are some key advantages:\n",
    "\n",
    "Code Reusability:\n",
    "Abstraction facilitates code reusability by defining generic interfaces and implementations that can be applied to different parts of the system. Reusable components save development time and effort and contribute to a more consistent and maintainable codebase.\n",
    "\n",
    "Team Collaboration:\n",
    "Abstraction promotes collaboration among development teams working on different aspects of the project. Each team can focus on implementing and maintaining specific modules or functionalities without needing an in-depth understanding of the entire system.\n",
    "\n",
    "Reduced Cognitive Load:\n",
    "Abstraction reduces the cognitive load on developers by allowing them to focus on higher-level concepts and logic rather than getting bogged down in implementation details. This can lead to more efficient problem-solving and improved code quality."
   ]
  },
  {
   "cell_type": "code",
   "execution_count": null,
   "id": "d70a3992-37a1-469f-8dd2-bc78615c1ff0",
   "metadata": {},
   "outputs": [],
   "source": [
    "# 18. Explain how abstraction enhances code reusability and modularity in Python programs."
   ]
  },
  {
   "cell_type": "markdown",
   "id": "7ad2321c-c948-4ea5-aaa5-6bf8399b30a6",
   "metadata": {},
   "source": [
    "Ans:Abstraction plays a crucial role in enhancing code reusability and modularity in Python programs. Let's explore how abstraction achieves these goals:\n",
    "\n",
    "Code Reusability:\n",
    "Abstraction allows you to define generic interfaces, such as abstract classes or interfaces, that specify the methods or properties a class should have. This enables you to create classes that adhere to a common interface, promoting consistency.\n",
    "\n",
    "Modularity:\n",
    "Abstraction encapsulates the implementation details within classes. This encapsulation promotes modularity by hiding the internal workings of a module and exposing only the essential interface."
   ]
  },
  {
   "cell_type": "code",
   "execution_count": null,
   "id": "7f6c8550-7f2f-4f8f-aba6-d0dc0d8941a4",
   "metadata": {},
   "outputs": [],
   "source": [
    "# 19. Create a Python class for a library system, implementing abstraction by defining common methods (e.g., `add_book()`, `borrow_book()`) in an abstract base class."
   ]
  },
  {
   "cell_type": "code",
   "execution_count": 33,
   "id": "a2fe889e-5d4f-41b1-84b6-ff876863e1d7",
   "metadata": {},
   "outputs": [
    {
     "name": "stdout",
     "output_type": "stream",
     "text": [
      "Book: The Catcher in the Rye by J.D. Salinger, Genre: Fiction\n",
      "The Catcher in the Rye by J.D. Salinger has been checked out.\n",
      "The Catcher in the Rye by J.D. Salinger has been returned.\n",
      "DVD: Inception by Christopher Nolan, Duration: 148 minutes\n",
      "Inception by Christopher Nolan has been checked out.\n",
      "Inception is already checked out.\n",
      "Inception by Christopher Nolan has been returned.\n"
     ]
    }
   ],
   "source": [
    "from abc import ABC, abstractmethod\n",
    "\n",
    "class LibraryItem(ABC):\n",
    "    def __init__(self, title, author):\n",
    "        self.title = title\n",
    "        self.author = author\n",
    "        self.checked_out = False\n",
    "\n",
    "    @abstractmethod\n",
    "    def display_details(self):\n",
    "        pass\n",
    "\n",
    "    def check_out(self):\n",
    "        if not self.checked_out:\n",
    "            self.checked_out = True\n",
    "            print(f\"{self.title} by {self.author} has been checked out.\")\n",
    "        else:\n",
    "            print(f\"{self.title} is already checked out.\")\n",
    "\n",
    "    def return_item(self):\n",
    "        if self.checked_out:\n",
    "            self.checked_out = False\n",
    "            print(f\"{self.title} by {self.author} has been returned.\")\n",
    "        else:\n",
    "            print(f\"{self.title} is not checked out.\")\n",
    "\n",
    "class Book(LibraryItem):\n",
    "    def __init__(self, title, author, genre):\n",
    "        super().__init__(title, author)\n",
    "        self.genre = genre\n",
    "\n",
    "    def display_details(self):\n",
    "        print(f\"Book: {self.title} by {self.author}, Genre: {self.genre}\")\n",
    "\n",
    "class DVD(LibraryItem):\n",
    "    def __init__(self, title, director, duration):\n",
    "        super().__init__(title, director)\n",
    "        self.duration = duration\n",
    "\n",
    "    def display_details(self):\n",
    "        print(f\"DVD: {self.title} by {self.author}, Duration: {self.duration} minutes\")\n",
    "\n",
    "# Example usage\n",
    "book = Book(\"The Catcher in the Rye\", \"J.D. Salinger\", \"Fiction\")\n",
    "dvd = DVD(\"Inception\", \"Christopher Nolan\", 148)\n",
    "\n",
    "book.display_details()\n",
    "book.check_out()\n",
    "book.return_item()\n",
    "\n",
    "dvd.display_details()\n",
    "dvd.check_out()\n",
    "dvd.check_out()\n",
    "dvd.return_item()\n"
   ]
  },
  {
   "cell_type": "code",
   "execution_count": null,
   "id": "78ce35ec-ffa7-4d12-a01a-c650a709d149",
   "metadata": {},
   "outputs": [],
   "source": [
    "# 20. Describe the concept of method abstraction in Python and how it relates to polymorphism."
   ]
  },
  {
   "cell_type": "markdown",
   "id": "f6ef8c24-2afb-4bf1-92d5-9f669bd83100",
   "metadata": {},
   "source": [
    "Ans: ethod abstraction in Python is a concept that involves creating abstract methods within a class or an interface, where the method declaration is provided without any implementation details. This abstraction allows subclasses or implementing classes to provide their own specific implementations for the abstract methods. Method abstraction is closely related to polymorphism, a fundamental principle of object-oriented programming (OOP).\n",
    "\n",
    "Dynamic Polymorphism:\n",
    "\r\n",
    "Dynamic polymorphism, or runtime polymorphism, is particularly emphasized through method abstraction. Objects of different classes can be passed to a function or method that expects an instance of an abstract class or interface. The specific implementation is determined at runtim\n",
    "\n",
    "Code Reusability:\n",
    "Method abstraction promotes code reusability by defining a common interface that can be shared among different classes. It allows for the creation of generic functions or methods that operate on objects based on their common abstract methods.e."
   ]
  },
  {
   "cell_type": "code",
   "execution_count": null,
   "id": "7e81f44a-ea57-47e3-b370-0f2b87ea4069",
   "metadata": {},
   "outputs": [],
   "source": [
    "# Composition:"
   ]
  },
  {
   "cell_type": "code",
   "execution_count": null,
   "id": "a29aef6d-3002-4170-866b-159c16a40815",
   "metadata": {},
   "outputs": [],
   "source": [
    "# 1. Explain the concept of composition in Python and how it is used to build complex objects from simpler ones."
   ]
  },
  {
   "cell_type": "markdown",
   "id": "00804a1e-dcdf-42f5-9a58-b71cda2b737b",
   "metadata": {},
   "source": [
    "Ans: Composition is a concept in Python (and object-oriented programming in general) that involves creating complex objects by combining or composing simpler objects. In composition, objects are combined to form a more significant and cohesive unit, allowing for the creation of complex structures while maintaining flexibility and modularity. Composition is often considered an alternative or complement to inheritance, providing a way to build relationships between classes that is more flexible than traditional class hierarchies.\n",
    "\n",
    "Object Composition:\n",
    "Object composition involves creating instances of one class within another class. These instances become attributes of the containing class, forming a \"has-a\" relationship. The containing class can then delegate some of its functionality to the composed objects.\n",
    "\n",
    "Flexibility and Modularity:\n",
    "Composition provides flexibility and modularity, allowing you to change the behavior of a class by composing it with different objects. It promotes code reuse and makes it easier to modify or extend the functionality of a class without modifying its code directly."
   ]
  },
  {
   "cell_type": "code",
   "execution_count": null,
   "id": "a4ff8371-e2c8-4731-9cff-09b4fe6aee50",
   "metadata": {},
   "outputs": [],
   "source": [
    "# 2. Describe the difference between composition and inheritance in object-oriented programming."
   ]
  },
  {
   "cell_type": "markdown",
   "id": "e3942840-9079-435e-b2b0-e7b1651267ea",
   "metadata": {},
   "source": [
    "Ans: \n",
    "Composition and inheritance are two fundamental concepts in object-oriented programming (OOP), and they represent different approaches to building relationships between classes and creating complex objects. Here are the key differences between composition and inheritance:\n",
    "\n",
    "Relationship Type:\r\n",
    "\r\n",
    "Inheritance: Inheritance represents an \"is-a\" relationship, where a subclass is a specialized version of its superclass. It involves creating a hierarchy of classes, with subclasses inheriting attributes and behaviors from their superclass.\r\n",
    "Composition: Composition represents a \"has-a\" relationship, where a class contains another class as a part of its structure. It involves creating objects by combining or composing simpler objects.\r\n",
    "Code Reusability:\r\n",
    "\r\n",
    "Inheritance: Inheritance promotes code reuse by allowing a subclass to inherit attributes and behaviors from a superclass. Reusing code from a common base class can lead to a more concise and modular codebase.\r\n",
    "Composition: Composition also promotes code reuse, but it achieves it by assembling existing objects to create new ones. This approach can be more flexible, as it allows for the reuse of specific functionalities without inheriting the entire interface or implementation of a class.\r\n",
    "Flexibility:\r\n",
    "\r\n",
    "Inheritance: While inheritance provides code reuse, it can lead to less flexibility because subclasses are tightly bound to their superclasses. Changes in the superclass may impact subclasses, and multiple inheritance can introduce complexities (e.g., the diamond problem).\r\n",
    "Composition: Composition offers greater flexibility because it allows objects to be combined in various ways. Changes to the composed objects or their relationships do not affect the containing class as much, and it avoids some of the issues associated with multiple inheritance."
   ]
  },
  {
   "cell_type": "code",
   "execution_count": null,
   "id": "35ee307e-38cb-417a-a287-becc271ccc19",
   "metadata": {},
   "outputs": [],
   "source": [
    "# 3. Create a Python class called `Author` with attributes for name and birthdate. Then, create a `Book` class that contains an instance of `Author` as a composition. Provide an example of creating a `Book` object."
   ]
  },
  {
   "cell_type": "code",
   "execution_count": 2,
   "id": "9f728fec-2ed4-4d38-ae60-91e723b0c495",
   "metadata": {},
   "outputs": [
    {
     "name": "stdout",
     "output_type": "stream",
     "text": [
      "\n",
      "        Book Name: Sudhanshu\n",
      "        book title: DSA in Python\n",
      "        \n"
     ]
    }
   ],
   "source": [
    "class author:\n",
    "    def __init__(self, name, birthday):\n",
    "        self.name = name\n",
    "        self.birthday = birthday\n",
    "\n",
    "class book:\n",
    "    def __init__(self, book_title, author):\n",
    "        self.book_title = book_title\n",
    "        self.author = author\n",
    "\n",
    "    def display_book_info(self):\n",
    "        print(f\"\"\"\n",
    "        Book Name: {self.author.name}\n",
    "        book title: {self.book_title}\n",
    "        \"\"\")\n",
    "\n",
    "author = author(\"Sudhanshu\", \"04 Jan\")\n",
    "book = book(\"DSA in Python\", author)\n",
    "\n",
    "book.display_book_info()"
   ]
  },
  {
   "cell_type": "code",
   "execution_count": null,
   "id": "1052948f-151c-46c4-9567-6ec6f67175b9",
   "metadata": {},
   "outputs": [],
   "source": [
    "# 4. Discuss the benefits of using composition over inheritance in Python, especially in terms of code flexibility and reusability."
   ]
  },
  {
   "cell_type": "markdown",
   "id": "68b83e76-48a4-4a18-b6ca-b19eb56b783a",
   "metadata": {},
   "source": [
    "Ans: \n",
    "Using composition over inheritance in Python provides several benefits, particularly in terms of code flexibility and reusability. Here are some key advantages.\n",
    "\n",
    "Flexibility and Modularity:\n",
    "\r\n",
    "Composition allows for more flexible and modular code design. With composition, classes can be designed to have well-defined responsibilities, and relationships between classes are more explicit. This makes it easier to modify or extend the functionality of a class without impacting its entire hierarch\n",
    "\n",
    "Avoidance of the Diamond Problem:\n",
    "\r\n",
    "Multiple inheritance in Python can lead to the \"diamond problem,\" where a class inherits from two classes that have a common ancestor. This can result in ambiguity in method resolution. Composition avoids this problem entirely, as it does not involve inheriting from multiple classes. Instead, it allows for combining objects without inheriting their interfaces or implementations.y.:"
   ]
  },
  {
   "cell_type": "code",
   "execution_count": null,
   "id": "52114b84-9388-488e-854a-33a2febf81a6",
   "metadata": {},
   "outputs": [],
   "source": [
    "# 5. How can you implement composition in Python classes? Provide examples of using composition to create complex objects."
   ]
  },
  {
   "cell_type": "markdown",
   "id": "d9f293e5-364c-4d37-a493-5553c85311db",
   "metadata": {},
   "source": [
    "Ans:  you can implement composition in classes by including instances of other classes as attributes within a class. This allows you to build complex objects by combining simpler objects. Here's an example demonstrating composition:"
   ]
  },
  {
   "cell_type": "code",
   "execution_count": 3,
   "id": "0974d39d-c6e7-491e-ab4a-9de09753beef",
   "metadata": {},
   "outputs": [
    {
     "name": "stdout",
     "output_type": "stream",
     "text": [
      "Car starting...\n",
      "Engine started\n",
      "Smartphone displaying content...\n",
      "Displaying: Hello, World!\n"
     ]
    }
   ],
   "source": [
    "# Example:\n",
    "class Engine:\n",
    "    def start(self):\n",
    "        print(\"Engine started\")\n",
    "\n",
    "class Car:\n",
    "    def __init__(self, engine):\n",
    "        self.engine = engine  # Composition: Car has an Engine\n",
    "\n",
    "    def start(self):\n",
    "        print(\"Car starting...\")\n",
    "        self.engine.start()\n",
    "\n",
    "# Create instances\n",
    "my_engine = Engine()\n",
    "my_car = Car(engine=my_engine)\n",
    "\n",
    "# Use composition\n",
    "my_car.start()\n",
    "\n",
    "\n",
    "# Example 2: Composition with Multiple Components\n",
    "\n",
    "class Display:\n",
    "    def show(self, content):\n",
    "        print(f\"Displaying: {content}\")\n",
    "\n",
    "class SmartPhone:\n",
    "    def __init__(self, display):\n",
    "        self.display = display  # Composition: SmartPhone has a Display\n",
    "\n",
    "    def display_content(self, content):\n",
    "        print(\"Smartphone displaying content...\")\n",
    "        self.display.show(content)\n",
    "\n",
    "# Create instances\n",
    "my_display = Display()\n",
    "my_phone = SmartPhone(display=my_display)\n",
    "\n",
    "# Use composition\n",
    "my_phone.display_content(\"Hello, World!\")"
   ]
  },
  {
   "cell_type": "code",
   "execution_count": null,
   "id": "2440b1bd-efc9-4956-ab09-2d38157457a1",
   "metadata": {},
   "outputs": [],
   "source": [
    "# 6. Create a Python class hierarchy for a music player system, using composition to represent playlists and songs."
   ]
  },
  {
   "cell_type": "code",
   "execution_count": 4,
   "id": "65e8f695-0566-4ed4-baba-ed175aee72b0",
   "metadata": {},
   "outputs": [
    {
     "name": "stdout",
     "output_type": "stream",
     "text": [
      "Playing playlist: My Favorites\n",
      "Playing: Song 1 by Artist A\n",
      "Playing: Song 2 by Artist B\n"
     ]
    }
   ],
   "source": [
    "class Song:\n",
    "    def __init__(self, title, artist, duration):\n",
    "        self.title = title\n",
    "        self.artist = artist\n",
    "        self.duration = duration\n",
    "\n",
    "    def play(self):\n",
    "        print(f\"Playing: {self.title} by {self.artist}\")\n",
    "\n",
    "\n",
    "class Playlist:\n",
    "    def __init__(self, name):\n",
    "        self.name = name\n",
    "        self.songs = []  # List to store Song objects\n",
    "\n",
    "    def add_song(self, song):\n",
    "        self.songs.append(song)\n",
    "\n",
    "    def play_all(self):\n",
    "        print(f\"Playing playlist: {self.name}\")\n",
    "        for song in self.songs:\n",
    "            song.play()\n",
    "\n",
    "\n",
    "class MusicPlayer:\n",
    "    def __init__(self):\n",
    "        self.playlists = []  # List to store Playlist objects\n",
    "\n",
    "    def add_playlist(self, playlist):\n",
    "        self.playlists.append(playlist)\n",
    "\n",
    "    def play_playlist(self, playlist_name):\n",
    "        for playlist in self.playlists:\n",
    "            if playlist.name == playlist_name:\n",
    "                playlist.play_all()\n",
    "                return\n",
    "        print(f\"Playlist '{playlist_name}' not found.\")\n",
    "\n",
    "\n",
    "# Example usage:\n",
    "\n",
    "# Create songs\n",
    "song1 = Song(\"Song 1\", \"Artist A\", \"3:30\")\n",
    "song2 = Song(\"Song 2\", \"Artist B\", \"4:15\")\n",
    "song3 = Song(\"Song 3\", \"Artist C\", \"2:50\")\n",
    "\n",
    "# Create playlists\n",
    "playlist1 = Playlist(\"My Favorites\")\n",
    "playlist1.add_song(song1)\n",
    "playlist1.add_song(song2)\n",
    "\n",
    "playlist2 = Playlist(\"Chill Vibes\")\n",
    "playlist2.add_song(song3)\n",
    "\n",
    "# Create music player\n",
    "music_player = MusicPlayer()\n",
    "music_player.add_playlist(playlist1)\n",
    "music_player.add_playlist(playlist2)\n",
    "\n",
    "# Play a specific playlist\n",
    "music_player.play_playlist(\"My Favorites\")"
   ]
  },
  {
   "cell_type": "code",
   "execution_count": null,
   "id": "58ec3493-f72c-4f0c-bc41-d767f2f03b0c",
   "metadata": {},
   "outputs": [],
   "source": [
    "# 7. Explain the concept of \"has-a\" relationships in composition and how it helps design software systems."
   ]
  },
  {
   "cell_type": "markdown",
   "id": "ac390def-7fd5-4b96-bebc-5894b2fa2d15",
   "metadata": {},
   "source": [
    "Ans: In object-oriented programming (OOP), the \"has-a\" relationship is a concept associated with composition. It represents a way of structuring classes and objects where one class contains an instance of another class as one of its attributes. The \"has-a\" relationship is a form of code reuse and is essential for building complex software systems. Here's an explanation of the concept and how it helps design software systems:"
   ]
  },
  {
   "cell_type": "code",
   "execution_count": 5,
   "id": "ab851982-19bd-4bde-9891-a2269f7b77d7",
   "metadata": {},
   "outputs": [
    {
     "name": "stdout",
     "output_type": "stream",
     "text": [
      "Car starting...\n",
      "Engine started\n"
     ]
    }
   ],
   "source": [
    "# Example\n",
    "\n",
    "class Engine:\n",
    "    def start(self):\n",
    "        print(\"Engine started\")\n",
    "\n",
    "class Car:\n",
    "    def __init__(self):\n",
    "        self.engine = Engine()  # Composition: Car has an Engine\n",
    "\n",
    "    def start(self):\n",
    "        print(\"Car starting...\")\n",
    "        self.engine.start()\n",
    "\n",
    "# Example usage:\n",
    "my_car = Car()\n",
    "my_car.start()\n"
   ]
  },
  {
   "cell_type": "code",
   "execution_count": null,
   "id": "e804f9aa-b0cd-4faf-bcd3-ee7f61e1231f",
   "metadata": {},
   "outputs": [],
   "source": [
    "# 8. Create a Python class for a computer system, using composition to represent components like CPU, RAM, and storage devices."
   ]
  },
  {
   "cell_type": "code",
   "execution_count": 13,
   "id": "6ba5ab80-15eb-4b47-a363-b8f24f7ca76f",
   "metadata": {},
   "outputs": [
    {
     "name": "stdout",
     "output_type": "stream",
     "text": [
      "\n",
      "        Computer Brand: Lenovo\n",
      "        Computer CPU: Ryzen 5\n",
      "        Computer RAM: 8GB SSD\n",
      "        Computer Storage: 500GB SSD\n",
      "        \n"
     ]
    }
   ],
   "source": [
    "class computer:\n",
    "    def __init__(self, brand):\n",
    "        self.brand = brand\n",
    "\n",
    "class cpu:\n",
    "    def __init__(self, cpu):\n",
    "        self.cpu = cpu\n",
    "\n",
    "class ram:\n",
    "    def __init__(self, ram):\n",
    "        self.ram = ram\n",
    "\n",
    "class storage:\n",
    "    def __init__(self, storage):\n",
    "        self.storage = storage\n",
    "\n",
    "class display_info:\n",
    "    def __init__(self, computer, cpu, ram, storage):\n",
    "        self.brand = computer.brand\n",
    "        self.cpu = cpu.cpu\n",
    "        self.ram = ram.ram\n",
    "        self.storage = storage.storage\n",
    "\n",
    "    def display_computer_specs(self):\n",
    "        print(f\"\"\"\n",
    "        Computer Brand: {self.brand}\n",
    "        Computer CPU: {self.cpu}\n",
    "        Computer RAM: {self.ram}\n",
    "        Computer Storage: {self.storage}\n",
    "        \"\"\")\n",
    "\n",
    "computer_brand = computer(\"Lenovo\")\n",
    "my_cpu = cpu(\"Ryzen 5\")\n",
    "my_ram = ram(\"8GB SSD\")\n",
    "my_Storage = storage(\"500GB SSD\")\n",
    "\n",
    "computer_specs = display_info(computer_brand, my_cpu, my_ram, my_Storage)\n",
    "computer_specs.display_computer_specs()"
   ]
  },
  {
   "cell_type": "code",
   "execution_count": null,
   "id": "d2dee239-6fea-4ae0-b68c-46cc74ccd038",
   "metadata": {},
   "outputs": [],
   "source": [
    "# 9. Describe the concept of \"delegation\" in composition and how it simplifies the design of complex systems."
   ]
  },
  {
   "cell_type": "markdown",
   "id": "78dc2be4-0c8c-4b39-9d13-34ec078ff135",
   "metadata": {},
   "source": [
    "Ans: \n",
    "In the context of object-oriented programming, \"delegation\" in composition refers to a design pattern where an object passes responsibility for a particular task to another object. This pattern simplifies the design of complex systems by allowing objects to collaborate and share responsibilities without tight coupling."
   ]
  },
  {
   "cell_type": "markdown",
   "id": "c9d759cc-3e53-4d60-bf91-64bb8347e400",
   "metadata": {},
   "source": [
    "Example of Delegation in Composition:\n",
    "Consider a scenario where a Car class needs to handle both steering and braking. Instead of implementing these functionalities directly, it can delegate them to separate classes:"
   ]
  },
  {
   "cell_type": "code",
   "execution_count": 14,
   "id": "a73e321c-be2a-478f-a6bc-b1acb409cfcb",
   "metadata": {},
   "outputs": [
    {
     "name": "stdout",
     "output_type": "stream",
     "text": [
      "Driving the car\n",
      "Turning left\n",
      "Applying brakes\n"
     ]
    }
   ],
   "source": [
    "# Example:\n",
    "class Steering:\n",
    "    def steer_left(self):\n",
    "        print(\"Turning left\")\n",
    "\n",
    "    def steer_right(self):\n",
    "        print(\"Turning right\")\n",
    "\n",
    "class Braking:\n",
    "    def apply_brakes(self):\n",
    "        print(\"Applying brakes\")\n",
    "\n",
    "class Car:\n",
    "    def __init__(self):\n",
    "        self.steering = Steering()\n",
    "        self.braking = Braking()\n",
    "\n",
    "    def drive(self):\n",
    "        print(\"Driving the car\")\n",
    "        self.steering.steer_left()\n",
    "        self.braking.apply_brakes()\n",
    "\n",
    "# Example usage:\n",
    "my_car = Car()\n",
    "my_car.drive()\n"
   ]
  },
  {
   "cell_type": "code",
   "execution_count": null,
   "id": "d85b96ce-7d01-4212-a5e4-fcdb5d00b2f2",
   "metadata": {},
   "outputs": [],
   "source": [
    "# 10. Create a Python class for a car, using composition to represent components like the engine, wheels, and transmission."
   ]
  },
  {
   "cell_type": "code",
   "execution_count": 26,
   "id": "8680cd74-8f3c-443e-824b-95054c89caa8",
   "metadata": {},
   "outputs": [
    {
     "name": "stdout",
     "output_type": "stream",
     "text": [
      "\n",
      "        Car Functionality:\n",
      "        Car Wheels: Wheels are rotating\n",
      "        Car Transmission: Shifting to gear\n",
      "        \n"
     ]
    }
   ],
   "source": [
    "class Engine:\n",
    "    def start(self):\n",
    "        print(\"Car is starting\")\n",
    "\n",
    "    def stop(self):\n",
    "        print(\"Car is stopping\")\n",
    "\n",
    "class Wheels:\n",
    "    def rotate(self):\n",
    "        return \"Wheels are rotating\"\n",
    "\n",
    "class Transmission:\n",
    "    def gear(self):\n",
    "        return \"Shifting to gear\"\n",
    "\n",
    "class Car:\n",
    "    def __init__(self, wheels, transmission):\n",
    "        self.wheels = wheels\n",
    "        self.transmission = transmission\n",
    "\n",
    "    def display_functionality(self):\n",
    "        print(f\"\"\"\n",
    "        Car Functionality:\n",
    "        Car Wheels: {self.wheels.rotate()}\n",
    "        Car Transmission: {self.transmission.gear()}\n",
    "        \"\"\")\n",
    "\n",
    "# Create instances\n",
    "car_wheels = Wheels()\n",
    "car_transmission = Transmission()\n",
    "my_car = Car(car_wheels, car_transmission)\n",
    "\n",
    "# Display car functionality\n",
    "my_car.display_functionality()\n"
   ]
  },
  {
   "cell_type": "code",
   "execution_count": null,
   "id": "8e2e1383-6730-47e2-b0dc-c7dab0e60153",
   "metadata": {},
   "outputs": [],
   "source": [
    "# 11. How can you encapsulate and hide the details of composed objects in Python classes to maintain abstraction?"
   ]
  },
  {
   "cell_type": "markdown",
   "id": "cdf1325f-7a12-4880-ab3d-2a3a5c66c69d",
   "metadata": {},
   "source": [
    "Ans: To encapsulate and hide the details of composed objects in Python classes and maintain abstraction, you can follow these principles:\n",
    "\n",
    "Private Attributes:\n",
    "\r\n",
    "Use private attributes (attributes starting with a double underscore __) to hide the details of composed objects.\r\n",
    "This prevents direct access to the attributes from outside the cla\n",
    "\n",
    "Getter Methods:\r\n",
    "\r\n",
    "Provide getter methods to access the details of composed objects indirectly.\r\n",
    "Getter methods allow controlled access to the encapsulated information.\r\n",
    "Abstraction Layer:\r\n",
    "\r\n",
    "Create an abstraction layer by exposing only essential information and operations.\r\n",
    "The outer class acts as a facade, providing a simplified interface to the composed objects.ss."
   ]
  },
  {
   "cell_type": "code",
   "execution_count": 30,
   "id": "9d664dbd-8450-4b6a-8c76-0333c4a609c0",
   "metadata": {},
   "outputs": [],
   "source": [
    "# Example: \n",
    "class Engine:\n",
    "    def __init__(self, model):\n",
    "        self.__model = model\n",
    "\n",
    "    def start(self):\n",
    "        print(f\"{self.__model} engine started\")\n",
    "\n",
    "    def stop(self):\n",
    "        print(f\"{self.__model} engine stopped\")\n",
    "\n",
    "class Car:\n",
    "    def __init__(self, brand, engine):\n",
    "        self.__brand = brand\n",
    "        self.__engine = engine\n",
    "\n",
    "    def start(self):\n",
    "        print(f\"{self.__brand} car starting\")\n",
    "        self.__engine.start()\n",
    "\n",
    "    def stop(self):\n",
    "        print(f\"{self.__brand} car stopping\")\n",
    "        self.__engine.stop()\n",
    "\n",
    "    def get_engine_model(self):\n",
    "        return self.__engine.get_model()\n",
    "\n",
    "# Usage\n",
    "my_engine = Engine(model=\"V6\")\n",
    "my_car = Car(brand=\"Toyota\", engine=my_engine)\n"
   ]
  },
  {
   "cell_type": "code",
   "execution_count": null,
   "id": "28aaf6c1-ca32-4040-9049-f4995c3a2a2b",
   "metadata": {},
   "outputs": [],
   "source": [
    "# 12. Create a Python class for a university course, using composition to represent students, instructors, and course materials."
   ]
  },
  {
   "cell_type": "code",
   "execution_count": 33,
   "id": "be880b92-3d90-4459-9b6e-8885c8034ae4",
   "metadata": {},
   "outputs": [
    {
     "name": "stdout",
     "output_type": "stream",
     "text": [
      "\n",
      "        University Name: MMM College GKP\n",
      "        Students Name: ['Hemant', 'RAJ', 'Vinay', 'Addit']\n",
      "        Instructors Name: ['Sudhanshu', 'Ismita']\n",
      "        Course Name: DSA in Python\n",
      "        \n"
     ]
    }
   ],
   "source": [
    "class university:\n",
    "    def __init__(self, university_name):\n",
    "        self.university_name = university_name\n",
    "\n",
    "class students:\n",
    "    def __init__(self, students):\n",
    "        self.students = students\n",
    "\n",
    "class instructors:\n",
    "    def __init__(self, instructors):\n",
    "        self.instructors = instructors\n",
    "\n",
    "class course:\n",
    "    def __init__(self, course):\n",
    "        self.course = course\n",
    "\n",
    "class display_material:\n",
    "    def __init__(self, university_name, students, instructors, course):\n",
    "        self.university_name = university_name.university_name\n",
    "        self.students = students.students\n",
    "        self.instructors = instructors.instructors\n",
    "        self.course = course.course\n",
    "\n",
    "    def display_info(self):\n",
    "        print(f\"\"\"\n",
    "        University Name: {self.university_name}\n",
    "        Students Name: {self.students}\n",
    "        Instructors Name: {self.instructors}\n",
    "        Course Name: {self.course}\n",
    "        \"\"\")\n",
    "\n",
    "university_name = university(\"MMM College GKP\")\n",
    "students_name = students([\"Hemant\", \"RAJ\",\"Vinay\",\"Addit\"])\n",
    "instructors_name = instructors([\"Sudhanshu\", \"Ismita\"])\n",
    "course_name = course(\"DSA in Python\")\n",
    "\n",
    "Display_info = display_material(university_name, students_name, instructors_name, course_name)\n",
    "Display_info.display_info()"
   ]
  },
  {
   "cell_type": "code",
   "execution_count": null,
   "id": "e182a06b-e57b-4ee4-8dde-0bfbdbba4cdb",
   "metadata": {},
   "outputs": [],
   "source": [
    "# 13. Discuss the challenges and drawbacks of composition, such as increased complexity and potential for tight coupling between objects."
   ]
  },
  {
   "cell_type": "raw",
   "id": "36a798ae-f324-4f81-a3f1-529ac8c2be33",
   "metadata": {},
   "source": [
    "Ans: While composition is a powerful design principle, it does come with its challenges and potential drawbacks. Here are some of the common challenges associated with composition:\n",
    "\n",
    "Increased Complexity:\n",
    "\n",
    "As you compose more objects, the overall complexity of the system can increase. Understanding the relationships between various objects may become more challenging, especially in larger systems.\n",
    "Tight Coupling:\n",
    "\n",
    "There's a risk of tight coupling between objects, especially when one object has direct knowledge of the internal details of another. This can make the code less flexible and harder to maintain."
   ]
  },
  {
   "cell_type": "code",
   "execution_count": null,
   "id": "c92ab138-7fc7-4260-b841-da41d7fa2aa7",
   "metadata": {},
   "outputs": [],
   "source": [
    "# 14. Create a Python class hierarchy for a restaurant system, using composition to represent menus, dishes, and ingredients."
   ]
  },
  {
   "cell_type": "code",
   "execution_count": 38,
   "id": "2143908c-2870-47e8-a402-336543f29b0a",
   "metadata": {},
   "outputs": [
    {
     "name": "stdout",
     "output_type": "stream",
     "text": [
      "\n",
      "        Fodd Name: Momos\n",
      "        Food Quantity: Half\n",
      "        Food Price: 50\n",
      "        \n"
     ]
    }
   ],
   "source": [
    "class food:\n",
    "    def __init__(self, food_name, quantity, price):\n",
    "        self.food_name = food_name\n",
    "        self.quantity = quantity\n",
    "        self.price = price\n",
    "\n",
    "    def restaurant_header(self):\n",
    "        print(\"Welcome Our Restaurant Menu\")\n",
    "\n",
    "class menu:\n",
    "    def __init__(self, food_items):\n",
    "        self.food_name = food_items.food_name\n",
    "        self.quantity = food_items.quantity\n",
    "        self.price = food_items.price\n",
    "\n",
    "    def display_menu(self):\n",
    "        print(f\"\"\"\n",
    "        Fodd Name: {self.food_name}\n",
    "        Food Quantity: {self.quantity}\n",
    "        Food Price: {self.price}\n",
    "        \"\"\")\n",
    "\n",
    "food_is = food(\"Momos\", \"Half\", 50)\n",
    "menu_is = menu(food_is)\n",
    "menu_is.display_menu()"
   ]
  },
  {
   "cell_type": "code",
   "execution_count": null,
   "id": "f856384c-17fe-482e-b741-d1f5f2869492",
   "metadata": {},
   "outputs": [],
   "source": [
    "# 15. Explain how composition enhances code maintainability and modularity in Python programs."
   ]
  },
  {
   "cell_type": "raw",
   "id": "bb54666b-2c08-4454-b0b9-eac7ae30f763",
   "metadata": {},
   "source": [
    "Ans: \n",
    "Composition enhances code maintainability and modularity in Python programs in several ways:\n",
    "\n",
    "Separation of Concerns:\n",
    "\n",
    "Composition allows breaking down a system into smaller, self-contained components. Each component is responsible for a specific functionality or feature. This separation of concerns makes it easier to understand, modify, and maintain individual pieces of the code.\n",
    "Code Reusability:\n",
    "\n",
    "With composition, you can create reusable components that encapsulate specific behaviors. These components can be used across different parts of the program or even in other projects, promoting code reusability and reducing redundant code.\n",
    "Flexibility and Extensibility:\n",
    "\n",
    "Components created through composition are typically more flexible and extensible. You can easily add or replace components without affecting the entire system. This flexibility makes it simpler to adapt the code to changing requirements or to extend its functionality.\n",
    "Testing and Debugging:\n",
    "\n",
    "Components can be tested in isolation, which simplifies the testing process. When issues arise, debugging becomes more straightforward as you can focus on the specific component causing the problem rather than the entire system.\n",
    "Ease of Maintenance:\n",
    "\n",
    "When a change is needed, you can focus on the relevant component without affecting unrelated parts of the system. This localized approach to modifications reduces the risk of introducing unintended side effects and makes maintenance tasks more manageable.\n",
    "Improved Readability:\n",
    "\n",
    "Composition often leads to cleaner and more readable code. Each class or component has a specific purpose, and the relationships between components are explicitly defined. This clarity enhances code readability and makes it easier for developers to understand the overall structure.\n",
    "Reduced Code Duplication:\n",
    "\n",
    "Composition allows you to reuse existing components in different contexts, reducing the need for duplicating code. This not only saves development time but also ensures consistency and reduces the likelihood of errors introduced by duplicated code.\n",
    "Scalability:\n",
    "\n",
    "As the program grows, a well-composed codebase is more scalable. New features can be added by creating new components or extending existing ones, and the overall structure remains organized and maintainable."
   ]
  },
  {
   "cell_type": "code",
   "execution_count": null,
   "id": "945731dd-fb5a-4f2c-9dd9-036fc2565fc0",
   "metadata": {},
   "outputs": [],
   "source": [
    "# 16. Create a Python class for a computer game character, using composition to represent attributes like weapons, armor, and inventory."
   ]
  },
  {
   "cell_type": "code",
   "execution_count": 40,
   "id": "943d5fda-644f-4581-a224-215f6170512f",
   "metadata": {},
   "outputs": [
    {
     "name": "stdout",
     "output_type": "stream",
     "text": [
      "\n",
      "        Weapons: Sword\n",
      "        Armor: Shield\n",
      "        Inventory: New One\n",
      "        \n"
     ]
    }
   ],
   "source": [
    "class weapons:\n",
    "    def __init__(self, weapon_name):\n",
    "        self.weapons_name = weapon_name\n",
    "\n",
    "class armor:\n",
    "    def __init__(self, armor_name):\n",
    "        self.armor_name = armor_name\n",
    "\n",
    "class invetory:\n",
    "    def __init__(self, inventory):\n",
    "        self.inventory = inventory\n",
    "\n",
    "class game_character:\n",
    "    def __init__(self, weapons, armor, inventory):\n",
    "        self.weapons = weapons\n",
    "        self.armor = armor\n",
    "        self.inventory = inventory\n",
    "\n",
    "    def display_game_character(self):\n",
    "        print(f\"\"\"\n",
    "        Weapons: {self.weapons.weapons_name}\n",
    "        Armor: {self.armor.armor_name}\n",
    "        Inventory: {self.inventory.inventory}\n",
    "        \"\"\")\n",
    "\n",
    "my_weapons = weapons(\"Sword\")\n",
    "my_armor = armor(\"Shield\")\n",
    "my_inventory = invetory(\"New One\")\n",
    "\n",
    "Game_characters = game_character(my_weapons, my_armor, my_inventory)\n",
    "Game_characters.display_game_character()"
   ]
  },
  {
   "cell_type": "code",
   "execution_count": null,
   "id": "dd509cc4-1eda-4ac1-aa9c-00e22115a3f7",
   "metadata": {},
   "outputs": [],
   "source": [
    "# 17. Describe the concept of \"aggregation\" in composition and how it differs from simple composition."
   ]
  },
  {
   "cell_type": "raw",
   "id": "d24ce67e-04fa-4c45-aeec-92b553ae26c6",
   "metadata": {},
   "source": [
    "Ans: Aggregation is a form of composition in object-oriented programming where one class (the whole) contains another class (the part), but the part can exist independently of the whole. It represents a \"has-a\" relationship, similar to simple composition, but with a key distinction. In aggregation, the part can exist independently, and it does not have a strong ownership relationship with the whole."
   ]
  },
  {
   "cell_type": "code",
   "execution_count": null,
   "id": "de624956-16f3-4a18-82fa-eecc0c5770d0",
   "metadata": {},
   "outputs": [],
   "source": [
    "# 18. Create a Python class for a house, using composition to represent rooms, furniture, and appliances."
   ]
  },
  {
   "cell_type": "code",
   "execution_count": 48,
   "id": "ef5b61db-8d31-4eac-8675-d9d5c7e9ff48",
   "metadata": {},
   "outputs": [
    {
     "name": "stdout",
     "output_type": "stream",
     "text": [
      "\n",
      "        Number Of Room In Hoese: 6\n",
      "        Number Of Furnitures in House: 2\n",
      "        Number Of Appliances in House: 10\n",
      "        \n"
     ]
    }
   ],
   "source": [
    "class room:\n",
    "    def __init__(self, num_of_room):\n",
    "        self.num_of_room = num_of_room\n",
    "\n",
    "class furniture:\n",
    "    def __init__(self, furniture):\n",
    "        self.furniture = furniture\n",
    "\n",
    "class appliances:\n",
    "    def __init__(self, appliances):\n",
    "        self.appliances = appliances\n",
    "\n",
    "class house:\n",
    "    def __init__(self, room, furniture, appliances):\n",
    "        self.room = room\n",
    "        self.furniture = furniture\n",
    "        self.appliances = appliances\n",
    "\n",
    "    def in_house(self):\n",
    "        print(f\"\"\"\n",
    "        Number Of Room In Hoese: {self.room.num_of_room}\n",
    "        Number Of Furnitures in House: {self.furniture.furniture}\n",
    "        Number Of Appliances in House: {self.appliances.appliances}\n",
    "        \"\"\")\n",
    "\n",
    "my_room = room(6)\n",
    "Furnitures = furniture(2)\n",
    "Applinces = appliances(10)\n",
    "\n",
    "House = house(my_room, Furnitures, Applinces)\n",
    "House.in_house()"
   ]
  },
  {
   "cell_type": "code",
   "execution_count": null,
   "id": "56b32841-f683-4ca4-8bff-f4e579614571",
   "metadata": {},
   "outputs": [],
   "source": [
    "# 19. How can you achieve flexibility in composed objects by allowing them to be replaced or modified dynamically at runtime?"
   ]
  },
  {
   "cell_type": "raw",
   "id": "41f4a47c-ce2f-45b5-8c32-2a8253cb32e9",
   "metadata": {},
   "source": [
    "Ans: Achieving flexibility in composed objects by allowing them to be replaced or modified dynamically at runtime often involves leveraging concepts such as dependency injection and design patterns like the Strategy Pattern. Here are a few approaches:\n",
    "\n",
    "Dependency Injection:\n",
    "Use dependency injection to inject components into an object at runtime. Instead of creating and setting components within the object, provide them as parameters during object construction or through setter methods.\n",
    "\n",
    "Strategy Pattern:\n",
    "Implement the Strategy Pattern, which defines a family of algorithms, encapsulates each algorithm, and makes them interchangeable. Clients can dynamically change the behavior of an object by selecting the appropriate strategy.\n",
    "\n",
    "Abstract Factory Pattern:\n",
    "Use the Abstract Factory Pattern to provide an interface for creating families of related or dependent objects without specifying their concrete classes. This allows the dynamic substitution of components."
   ]
  },
  {
   "cell_type": "code",
   "execution_count": null,
   "id": "b16f43ac-1ec2-4e05-ba5d-d9fcbfc768e5",
   "metadata": {},
   "outputs": [],
   "source": [
    "# 20. Create a Python class for a social media application, using composition to represent users, posts, and comments."
   ]
  },
  {
   "cell_type": "code",
   "execution_count": 49,
   "id": "5e0eb69c-c64c-499e-81d8-e02c7f54b37e",
   "metadata": {},
   "outputs": [
    {
     "name": "stdout",
     "output_type": "stream",
     "text": [
      "\n",
      "        Published By: bmyadav025\n",
      "        Post Name: Celebrating Dipawali\n",
      "        Comments: ['Wow', 'Nice', 'Happy Dipawali']\n",
      "        \n"
     ]
    }
   ],
   "source": [
    "class user:\n",
    "    def __init__(self, user_name):\n",
    "        self.user_name = user_name\n",
    "\n",
    "class posts:\n",
    "    def __init__(self, posts):\n",
    "        self.posts = posts\n",
    "\n",
    "class comments:\n",
    "    def __init__(self, comments):\n",
    "        self.comments = comments\n",
    "\n",
    "class social_media:\n",
    "    def __init__(self, user, posts, comments):\n",
    "        self.user_name = user.user_name\n",
    "        self.posts = posts.posts\n",
    "        self.comments = comments.comments\n",
    "\n",
    "    def display_social_post_info(self):\n",
    "        print(f\"\"\"\n",
    "        Published By: {self.user_name}\n",
    "        Post Name: {self.posts}\n",
    "        Comments: {self.comments}\n",
    "        \"\"\")\n",
    "\n",
    "User = user(\"bmyadav025\")\n",
    "Post = posts(\"Celebrating Dipawali\")\n",
    "Comment = comments([\"Wow\", \"Nice\", \"Happy Dipawali\"])\n",
    "\n",
    "Social_media = social_media(User, Post, Comment)\n",
    "\n",
    "Social_media.display_social_post_info()"
   ]
  }
 ],
 "metadata": {
  "kernelspec": {
   "display_name": "Python 3 (ipykernel)",
   "language": "python",
   "name": "python3"
  },
  "language_info": {
   "codemirror_mode": {
    "name": "ipython",
    "version": 3
   },
   "file_extension": ".py",
   "mimetype": "text/x-python",
   "name": "python",
   "nbconvert_exporter": "python",
   "pygments_lexer": "ipython3",
   "version": "3.12.0"
  }
 },
 "nbformat": 4,
 "nbformat_minor": 5
}
